{
 "cells": [
  {
   "cell_type": "code",
   "execution_count": 1,
   "id": "83b859dd",
   "metadata": {
    "colab": {
     "base_uri": "https://localhost:8080/"
    },
    "executionInfo": {
     "elapsed": 37286,
     "status": "ok",
     "timestamp": 1668215901594,
     "user": {
      "displayName": "Nolapat Pipitvitayakul",
      "userId": "16329361076236577044"
     },
     "user_tz": 360
    },
    "id": "83b859dd",
    "outputId": "be6c4b27-cdf4-4a9b-8ca9-721d991c6842"
   },
   "outputs": [
    {
     "name": "stdout",
     "output_type": "stream",
     "text": [
      "Requirement already satisfied: matplotlib in c:\\users\\hjk0811\\anaconda3\\envs\\gpu\\lib\\site-packages (3.6.2)\n",
      "Requirement already satisfied: contourpy>=1.0.1 in c:\\users\\hjk0811\\anaconda3\\envs\\gpu\\lib\\site-packages (from matplotlib) (1.0.6)\n",
      "Requirement already satisfied: packaging>=20.0 in c:\\users\\hjk0811\\anaconda3\\envs\\gpu\\lib\\site-packages (from matplotlib) (21.3)\n",
      "Requirement already satisfied: pyparsing>=2.2.1 in c:\\users\\hjk0811\\anaconda3\\envs\\gpu\\lib\\site-packages (from matplotlib) (3.0.9)\n",
      "Requirement already satisfied: kiwisolver>=1.0.1 in c:\\users\\hjk0811\\anaconda3\\envs\\gpu\\lib\\site-packages (from matplotlib) (1.4.4)\n",
      "Requirement already satisfied: fonttools>=4.22.0 in c:\\users\\hjk0811\\anaconda3\\envs\\gpu\\lib\\site-packages (from matplotlib) (4.38.0)\n",
      "Requirement already satisfied: numpy>=1.19 in c:\\users\\hjk0811\\anaconda3\\envs\\gpu\\lib\\site-packages (from matplotlib) (1.22.4)\n",
      "Requirement already satisfied: python-dateutil>=2.7 in c:\\users\\hjk0811\\anaconda3\\envs\\gpu\\lib\\site-packages (from matplotlib) (2.8.2)\n",
      "Requirement already satisfied: pillow>=6.2.0 in c:\\users\\hjk0811\\anaconda3\\envs\\gpu\\lib\\site-packages (from matplotlib) (9.3.0)\n",
      "Requirement already satisfied: cycler>=0.10 in c:\\users\\hjk0811\\anaconda3\\envs\\gpu\\lib\\site-packages (from matplotlib) (0.11.0)\n",
      "Requirement already satisfied: six>=1.5 in c:\\users\\hjk0811\\anaconda3\\envs\\gpu\\lib\\site-packages (from python-dateutil>=2.7->matplotlib) (1.16.0)\n",
      "Requirement already satisfied: scikit-learn in c:\\users\\hjk0811\\anaconda3\\envs\\gpu\\lib\\site-packages (1.1.1)\n",
      "Requirement already satisfied: joblib>=1.0.0 in c:\\users\\hjk0811\\anaconda3\\envs\\gpu\\lib\\site-packages (from scikit-learn) (1.2.0)\n",
      "Requirement already satisfied: threadpoolctl>=2.0.0 in c:\\users\\hjk0811\\anaconda3\\envs\\gpu\\lib\\site-packages (from scikit-learn) (3.1.0)\n",
      "Requirement already satisfied: scipy>=1.3.2 in c:\\users\\hjk0811\\anaconda3\\envs\\gpu\\lib\\site-packages (from scikit-learn) (1.7.3)\n",
      "Requirement already satisfied: numpy>=1.17.3 in c:\\users\\hjk0811\\anaconda3\\envs\\gpu\\lib\\site-packages (from scikit-learn) (1.22.4)\n",
      "Requirement already satisfied: seaborn in c:\\users\\hjk0811\\anaconda3\\envs\\gpu\\lib\\site-packages (0.12.1)\n",
      "Requirement already satisfied: numpy>=1.17 in c:\\users\\hjk0811\\anaconda3\\envs\\gpu\\lib\\site-packages (from seaborn) (1.22.4)\n",
      "Requirement already satisfied: pandas>=0.25 in c:\\users\\hjk0811\\anaconda3\\envs\\gpu\\lib\\site-packages (from seaborn) (1.5.1)\n",
      "Requirement already satisfied: matplotlib!=3.6.1,>=3.1 in c:\\users\\hjk0811\\anaconda3\\envs\\gpu\\lib\\site-packages (from seaborn) (3.6.2)\n",
      "Requirement already satisfied: fonttools>=4.22.0 in c:\\users\\hjk0811\\anaconda3\\envs\\gpu\\lib\\site-packages (from matplotlib!=3.6.1,>=3.1->seaborn) (4.38.0)\n",
      "Requirement already satisfied: packaging>=20.0 in c:\\users\\hjk0811\\anaconda3\\envs\\gpu\\lib\\site-packages (from matplotlib!=3.6.1,>=3.1->seaborn) (21.3)\n",
      "Requirement already satisfied: pyparsing>=2.2.1 in c:\\users\\hjk0811\\anaconda3\\envs\\gpu\\lib\\site-packages (from matplotlib!=3.6.1,>=3.1->seaborn) (3.0.9)\n",
      "Requirement already satisfied: kiwisolver>=1.0.1 in c:\\users\\hjk0811\\anaconda3\\envs\\gpu\\lib\\site-packages (from matplotlib!=3.6.1,>=3.1->seaborn) (1.4.4)\n",
      "Requirement already satisfied: pillow>=6.2.0 in c:\\users\\hjk0811\\anaconda3\\envs\\gpu\\lib\\site-packages (from matplotlib!=3.6.1,>=3.1->seaborn) (9.3.0)\n",
      "Requirement already satisfied: python-dateutil>=2.7 in c:\\users\\hjk0811\\anaconda3\\envs\\gpu\\lib\\site-packages (from matplotlib!=3.6.1,>=3.1->seaborn) (2.8.2)\n",
      "Requirement already satisfied: cycler>=0.10 in c:\\users\\hjk0811\\anaconda3\\envs\\gpu\\lib\\site-packages (from matplotlib!=3.6.1,>=3.1->seaborn) (0.11.0)\n",
      "Requirement already satisfied: contourpy>=1.0.1 in c:\\users\\hjk0811\\anaconda3\\envs\\gpu\\lib\\site-packages (from matplotlib!=3.6.1,>=3.1->seaborn) (1.0.6)\n",
      "Requirement already satisfied: pytz>=2020.1 in c:\\users\\hjk0811\\anaconda3\\envs\\gpu\\lib\\site-packages (from pandas>=0.25->seaborn) (2022.1)\n",
      "Requirement already satisfied: six>=1.5 in c:\\users\\hjk0811\\anaconda3\\envs\\gpu\\lib\\site-packages (from python-dateutil>=2.7->matplotlib!=3.6.1,>=3.1->seaborn) (1.16.0)\n",
      "Requirement already satisfied: skl2onnx in c:\\users\\hjk0811\\anaconda3\\envs\\gpu\\lib\\site-packages (1.13)\n",
      "Requirement already satisfied: scipy>=1.0 in c:\\users\\hjk0811\\anaconda3\\envs\\gpu\\lib\\site-packages (from skl2onnx) (1.7.3)\n",
      "Requirement already satisfied: scikit-learn>=0.19 in c:\\users\\hjk0811\\anaconda3\\envs\\gpu\\lib\\site-packages (from skl2onnx) (1.1.1)\n",
      "Requirement already satisfied: onnx>=1.2.1 in c:\\users\\hjk0811\\anaconda3\\envs\\gpu\\lib\\site-packages (from skl2onnx) (1.12.0)\n",
      "Requirement already satisfied: protobuf in c:\\users\\hjk0811\\anaconda3\\envs\\gpu\\lib\\site-packages (from skl2onnx) (3.17.2)\n",
      "Requirement already satisfied: onnxconverter-common>=1.7.0 in c:\\users\\hjk0811\\anaconda3\\envs\\gpu\\lib\\site-packages (from skl2onnx) (1.13.0)\n",
      "Requirement already satisfied: numpy>=1.15 in c:\\users\\hjk0811\\anaconda3\\envs\\gpu\\lib\\site-packages (from skl2onnx) (1.22.4)\n",
      "Requirement already satisfied: typing-extensions>=3.6.2.1 in c:\\users\\hjk0811\\anaconda3\\envs\\gpu\\lib\\site-packages (from onnx>=1.2.1->skl2onnx) (4.3.0)\n",
      "Requirement already satisfied: packaging in c:\\users\\hjk0811\\anaconda3\\envs\\gpu\\lib\\site-packages (from onnxconverter-common>=1.7.0->skl2onnx) (21.3)\n",
      "Requirement already satisfied: six>=1.9 in c:\\users\\hjk0811\\anaconda3\\envs\\gpu\\lib\\site-packages (from protobuf->skl2onnx) (1.16.0)\n",
      "Requirement already satisfied: joblib>=1.0.0 in c:\\users\\hjk0811\\anaconda3\\envs\\gpu\\lib\\site-packages (from scikit-learn>=0.19->skl2onnx) (1.2.0)\n",
      "Requirement already satisfied: threadpoolctl>=2.0.0 in c:\\users\\hjk0811\\anaconda3\\envs\\gpu\\lib\\site-packages (from scikit-learn>=0.19->skl2onnx) (3.1.0)\n",
      "Requirement already satisfied: pyparsing!=3.0.5,>=2.0.2 in c:\\users\\hjk0811\\anaconda3\\envs\\gpu\\lib\\site-packages (from packaging->onnxconverter-common>=1.7.0->skl2onnx) (3.0.9)\n",
      "Requirement already satisfied: onnxruntime in c:\\users\\hjk0811\\anaconda3\\envs\\gpu\\lib\\site-packages (1.13.1)\n",
      "Requirement already satisfied: sympy in c:\\users\\hjk0811\\anaconda3\\envs\\gpu\\lib\\site-packages (from onnxruntime) (1.11.1)\n",
      "Requirement already satisfied: protobuf in c:\\users\\hjk0811\\anaconda3\\envs\\gpu\\lib\\site-packages (from onnxruntime) (3.17.2)\n",
      "Requirement already satisfied: flatbuffers in c:\\users\\hjk0811\\anaconda3\\envs\\gpu\\lib\\site-packages (from onnxruntime) (20210226132247)\n",
      "Requirement already satisfied: packaging in c:\\users\\hjk0811\\anaconda3\\envs\\gpu\\lib\\site-packages (from onnxruntime) (21.3)\n",
      "Requirement already satisfied: numpy>=1.21.6 in c:\\users\\hjk0811\\anaconda3\\envs\\gpu\\lib\\site-packages (from onnxruntime) (1.22.4)\n",
      "Requirement already satisfied: coloredlogs in c:\\users\\hjk0811\\anaconda3\\envs\\gpu\\lib\\site-packages (from onnxruntime) (15.0.1)\n",
      "Requirement already satisfied: humanfriendly>=9.1 in c:\\users\\hjk0811\\anaconda3\\envs\\gpu\\lib\\site-packages (from coloredlogs->onnxruntime) (10.0)\n",
      "Requirement already satisfied: pyparsing!=3.0.5,>=2.0.2 in c:\\users\\hjk0811\\anaconda3\\envs\\gpu\\lib\\site-packages (from packaging->onnxruntime) (3.0.9)\n",
      "Requirement already satisfied: six>=1.9 in c:\\users\\hjk0811\\anaconda3\\envs\\gpu\\lib\\site-packages (from protobuf->onnxruntime) (1.16.0)\n",
      "Requirement already satisfied: mpmath>=0.19 in c:\\users\\hjk0811\\anaconda3\\envs\\gpu\\lib\\site-packages (from sympy->onnxruntime) (1.2.1)\n",
      "Requirement already satisfied: pyreadline3 in c:\\users\\hjk0811\\anaconda3\\envs\\gpu\\lib\\site-packages (from humanfriendly>=9.1->coloredlogs->onnxruntime) (3.4.1)\n"
     ]
    }
   ],
   "source": [
    "!pip install matplotlib\n",
    "!pip install scikit-learn\n",
    "!pip install seaborn\n",
    "!pip install skl2onnx\n",
    "!pip install onnxruntime"
   ]
  },
  {
   "cell_type": "code",
   "execution_count": 2,
   "id": "e60bc26d",
   "metadata": {
    "executionInfo": {
     "elapsed": 4193,
     "status": "ok",
     "timestamp": 1668215905773,
     "user": {
      "displayName": "Nolapat Pipitvitayakul",
      "userId": "16329361076236577044"
     },
     "user_tz": 360
    },
    "id": "e60bc26d"
   },
   "outputs": [],
   "source": [
    "import pandas as pd\n",
    "import numpy as np\n",
    "import matplotlib.pyplot as plt\n",
    "from scipy import stats\n",
    "import tensorflow as tf\n",
    "import datetime\n",
    "import time\n",
    "from scipy.fftpack import fft\n",
    "from scipy.signal import welch\n",
    "from datetime import datetime\n",
    "from datetime import timedelta\n",
    "from numpy import diff\n",
    "from decimal import Decimal, getcontext\n",
    "from scipy.signal import find_peaks\n",
    "\n",
    "%matplotlib inline\n",
    "plt.style.use('ggplot')"
   ]
  },
  {
   "cell_type": "code",
   "execution_count": 3,
   "id": "a1d6226d",
   "metadata": {
    "colab": {
     "base_uri": "https://localhost:8080/"
    },
    "executionInfo": {
     "elapsed": 818,
     "status": "ok",
     "timestamp": 1668215927230,
     "user": {
      "displayName": "Nolapat Pipitvitayakul",
      "userId": "16329361076236577044"
     },
     "user_tz": 360
    },
    "id": "a1d6226d",
    "outputId": "ce0454fd-31a5-448a-933f-23ecc6629f54"
   },
   "outputs": [
    {
     "name": "stdout",
     "output_type": "stream",
     "text": [
      "[[     1.              0.0440775       1.         ... -15341.3533188\n",
      "   -4413.5139832   41560.03752677]\n",
      " [     2.              0.02453709      2.         ...  -1822.48373356\n",
      "   45617.31821995   1207.70724508]\n",
      " [     1.              0.03554647      0.         ...  -8183.80194722\n",
      "    6728.23056225 -12585.29972511]\n",
      " ...\n",
      " [     1.              0.04774323      1.         ...   4601.8570446\n",
      "   20406.03405844  20057.03919667]\n",
      " [     0.              0.00769195      3.         ...  -9419.46065721\n",
      "    6453.31435993   -951.76939835]\n",
      " [     0.              0.0050816       0.         ...  21643.6660071\n",
      "    1023.97587035  -1269.6769588 ]]\n"
     ]
    }
   ],
   "source": [
    "my_file = open(\"C:\\\\Users\\\\hjk0811\\\\Downloads\\\\feature1\\\\feature.txt\", \"r\")\n",
    "totalFeaturee = []\n",
    "for line in my_file:\n",
    "    totalFeaturee.extend([float(i) for i in line.split()])\n",
    "    \n",
    "\n",
    "\n",
    "totalFeature=np.array([])\n",
    "for i in range(len(totalFeaturee)):\n",
    "    totalFeature=np.append(totalFeature,totalFeaturee[i])\n",
    "x = int(len(totalFeature)/129)\n",
    "totalFeature = totalFeature.reshape(x, 129)\n",
    "np.set_printoptions(suppress=True)\n",
    "print(totalFeature)"
   ]
  },
  {
   "cell_type": "code",
   "execution_count": 4,
   "id": "e131101e",
   "metadata": {
    "colab": {
     "base_uri": "https://localhost:8080/"
    },
    "executionInfo": {
     "elapsed": 176,
     "status": "ok",
     "timestamp": 1668215928445,
     "user": {
      "displayName": "Nolapat Pipitvitayakul",
      "userId": "16329361076236577044"
     },
     "user_tz": 360
    },
    "id": "e131101e",
    "outputId": "c7e7ce3b-1439-48db-a7b5-1807001508d3"
   },
   "outputs": [
    {
     "name": "stdout",
     "output_type": "stream",
     "text": [
      "[ 1  1  1  1  1 10 10 10 10 10 10 10 10 10 11 11 11 11 11 11 11 11 11 11\n",
      " 11 11 11 12 12 12 12 12 13 13 13 13 13 13 13 13 13 14 14 14 14 14 14 14\n",
      " 14 14 14 14 14 14 14 15 15 15 15 15  2  2  2  2  2  2  2  2  2  2  2  2\n",
      "  2  2  2  2  2  3  3  3  3  3  3  4  4  4  4  4  4  4  4  4  4  4  4  4\n",
      "  4  4  4  4  4  4  4  4  4  4  4  5  5  5  5  5  5  5  5  5  5  5  5  5\n",
      "  5  5  5  5  5  5  5  5  5  5  5  5  5  5  5  5  5  6  6  7  7  7  7  7\n",
      "  7  7  7  7  7  7  7  7  7  8  8  8  8  8  8  8  8  8  8  8  8  8  8  8\n",
      "  8  8  8  8  8  8  8  8  9  9  9  9]\n"
     ]
    }
   ],
   "source": [
    "my_file = open(\"C:\\\\Users\\\\hjk0811\\\\Downloads\\\\feature1\\\\label.txt\", \"r\")\n",
    "totalLable = []\n",
    "for line in my_file:\n",
    "    totalLable.extend([float(i) for i in line.split()])\n",
    "    \n",
    "totalLable=np.asarray(totalLable).astype(int)\n",
    "totalLable = totalLable.reshape(x, 1) \n",
    "\n",
    "totalLable = totalLable.reshape(1,x) \n",
    "totalLable = totalLable.flatten()\n",
    "\n",
    "print(totalLable) "
   ]
  },
  {
   "cell_type": "code",
   "execution_count": 5,
   "id": "XX-U3lsr4Gj6",
   "metadata": {
    "colab": {
     "base_uri": "https://localhost:8080/"
    },
    "executionInfo": {
     "elapsed": 22,
     "status": "ok",
     "timestamp": 1668215928447,
     "user": {
      "displayName": "Nolapat Pipitvitayakul",
      "userId": "16329361076236577044"
     },
     "user_tz": 360
    },
    "id": "XX-U3lsr4Gj6",
    "outputId": "fcafd945-f221-4d68-f69c-4a67129c8f69"
   },
   "outputs": [
    {
     "name": "stdout",
     "output_type": "stream",
     "text": [
      "['1', '2', '3', '4', '5', '6', '7', '8', '9', '10', '11', '12', '13', '14', '15', '16', '17', '18', '19', '20', '21', '22', '23', '24', '25', '26', '27', '28', '29', '30', '31', '32', '33', '34', '35', '36', '37', '38', '39', '40', '41', '42', '43', '44', '45', '46', '47', '48', '49', '50', '51', '52', '53', '54', '55', '56', '57', '58', '59', '60', '61', '62', '63', '64', '65', '66', '67', '68', '69', '70', '71', '72', '73', '74', '75', '76', '77', '78', '79', '80', '81', '82', '83', '84', '85', '86', '87', '88', '89', '90', '91', '92', '93', '94', '95', '96', '97', '98', '99', '100', '101', '102', '103', '104', '105', '106', '107', '108', '109', '110', '111', '112', '113', '114', '115', '116', '117', '118', '119', '120', '121', '122', '123', '124', '125', '126', '127', '128', '129']\n"
     ]
    }
   ],
   "source": [
    "columnNames=['1','2','3']\n",
    "for i in range(4,130):\n",
    "  columnNames.append(str(i))\n",
    "\n",
    "print(columnNames)"
   ]
  },
  {
   "cell_type": "code",
   "execution_count": 6,
   "id": "oG-IZkUB35_x",
   "metadata": {
    "executionInfo": {
     "elapsed": 14,
     "status": "ok",
     "timestamp": 1668215928448,
     "user": {
      "displayName": "Nolapat Pipitvitayakul",
      "userId": "16329361076236577044"
     },
     "user_tz": 360
    },
    "id": "oG-IZkUB35_x"
   },
   "outputs": [],
   "source": [
    "df = pd.DataFrame(totalFeature, columns = columnNames)"
   ]
  },
  {
   "cell_type": "code",
   "execution_count": 7,
   "id": "jAi_zb9h6bIJ",
   "metadata": {
    "colab": {
     "base_uri": "https://localhost:8080/",
     "height": 236
    },
    "executionInfo": {
     "elapsed": 193,
     "status": "ok",
     "timestamp": 1668215928629,
     "user": {
      "displayName": "Nolapat Pipitvitayakul",
      "userId": "16329361076236577044"
     },
     "user_tz": 360
    },
    "id": "jAi_zb9h6bIJ",
    "outputId": "1a4db95f-fa45-4ee2-964e-9d4bbc2c7b67"
   },
   "outputs": [
    {
     "data": {
      "text/html": [
       "<div>\n",
       "<style scoped>\n",
       "    .dataframe tbody tr th:only-of-type {\n",
       "        vertical-align: middle;\n",
       "    }\n",
       "\n",
       "    .dataframe tbody tr th {\n",
       "        vertical-align: top;\n",
       "    }\n",
       "\n",
       "    .dataframe thead th {\n",
       "        text-align: right;\n",
       "    }\n",
       "</style>\n",
       "<table border=\"1\" class=\"dataframe\">\n",
       "  <thead>\n",
       "    <tr style=\"text-align: right;\">\n",
       "      <th></th>\n",
       "      <th>1</th>\n",
       "      <th>2</th>\n",
       "      <th>3</th>\n",
       "      <th>4</th>\n",
       "      <th>5</th>\n",
       "      <th>6</th>\n",
       "      <th>7</th>\n",
       "      <th>8</th>\n",
       "      <th>9</th>\n",
       "      <th>10</th>\n",
       "      <th>...</th>\n",
       "      <th>120</th>\n",
       "      <th>121</th>\n",
       "      <th>122</th>\n",
       "      <th>123</th>\n",
       "      <th>124</th>\n",
       "      <th>125</th>\n",
       "      <th>126</th>\n",
       "      <th>127</th>\n",
       "      <th>128</th>\n",
       "      <th>129</th>\n",
       "    </tr>\n",
       "  </thead>\n",
       "  <tbody>\n",
       "    <tr>\n",
       "      <th>0</th>\n",
       "      <td>1.0</td>\n",
       "      <td>0.044077</td>\n",
       "      <td>1.0</td>\n",
       "      <td>0.041169</td>\n",
       "      <td>1.0</td>\n",
       "      <td>0.033000</td>\n",
       "      <td>1.0</td>\n",
       "      <td>0.026685</td>\n",
       "      <td>1.0</td>\n",
       "      <td>0.028808</td>\n",
       "      <td>...</td>\n",
       "      <td>0.012973</td>\n",
       "      <td>0.007351</td>\n",
       "      <td>1.184261e-02</td>\n",
       "      <td>0.009127</td>\n",
       "      <td>0.009132</td>\n",
       "      <td>0.007816</td>\n",
       "      <td>0.009006</td>\n",
       "      <td>-15341.353319</td>\n",
       "      <td>-4413.513983</td>\n",
       "      <td>41560.037527</td>\n",
       "    </tr>\n",
       "    <tr>\n",
       "      <th>1</th>\n",
       "      <td>2.0</td>\n",
       "      <td>0.024537</td>\n",
       "      <td>2.0</td>\n",
       "      <td>0.042026</td>\n",
       "      <td>2.0</td>\n",
       "      <td>0.009387</td>\n",
       "      <td>1.0</td>\n",
       "      <td>0.004651</td>\n",
       "      <td>1.0</td>\n",
       "      <td>0.025020</td>\n",
       "      <td>...</td>\n",
       "      <td>0.031675</td>\n",
       "      <td>0.004881</td>\n",
       "      <td>7.576224e-03</td>\n",
       "      <td>0.000499</td>\n",
       "      <td>0.000050</td>\n",
       "      <td>0.002791</td>\n",
       "      <td>0.009023</td>\n",
       "      <td>-1822.483734</td>\n",
       "      <td>45617.318220</td>\n",
       "      <td>1207.707245</td>\n",
       "    </tr>\n",
       "    <tr>\n",
       "      <th>2</th>\n",
       "      <td>1.0</td>\n",
       "      <td>0.035546</td>\n",
       "      <td>0.0</td>\n",
       "      <td>0.000600</td>\n",
       "      <td>1.0</td>\n",
       "      <td>0.034716</td>\n",
       "      <td>1.0</td>\n",
       "      <td>0.015709</td>\n",
       "      <td>1.0</td>\n",
       "      <td>0.021109</td>\n",
       "      <td>...</td>\n",
       "      <td>0.028359</td>\n",
       "      <td>0.012269</td>\n",
       "      <td>3.604302e-07</td>\n",
       "      <td>0.014554</td>\n",
       "      <td>0.004899</td>\n",
       "      <td>0.008797</td>\n",
       "      <td>0.019044</td>\n",
       "      <td>-8183.801947</td>\n",
       "      <td>6728.230562</td>\n",
       "      <td>-12585.299725</td>\n",
       "    </tr>\n",
       "    <tr>\n",
       "      <th>3</th>\n",
       "      <td>2.0</td>\n",
       "      <td>0.008966</td>\n",
       "      <td>1.0</td>\n",
       "      <td>0.041194</td>\n",
       "      <td>1.0</td>\n",
       "      <td>0.012014</td>\n",
       "      <td>3.0</td>\n",
       "      <td>0.026286</td>\n",
       "      <td>1.0</td>\n",
       "      <td>0.010697</td>\n",
       "      <td>...</td>\n",
       "      <td>0.011094</td>\n",
       "      <td>0.001026</td>\n",
       "      <td>1.602504e-02</td>\n",
       "      <td>0.000480</td>\n",
       "      <td>0.035177</td>\n",
       "      <td>0.000410</td>\n",
       "      <td>0.045863</td>\n",
       "      <td>-28657.887161</td>\n",
       "      <td>-21242.160113</td>\n",
       "      <td>-49104.022378</td>\n",
       "    </tr>\n",
       "    <tr>\n",
       "      <th>4</th>\n",
       "      <td>2.0</td>\n",
       "      <td>0.033230</td>\n",
       "      <td>1.0</td>\n",
       "      <td>0.040996</td>\n",
       "      <td>1.0</td>\n",
       "      <td>0.028153</td>\n",
       "      <td>2.0</td>\n",
       "      <td>0.033730</td>\n",
       "      <td>1.0</td>\n",
       "      <td>0.023253</td>\n",
       "      <td>...</td>\n",
       "      <td>0.066298</td>\n",
       "      <td>0.008602</td>\n",
       "      <td>1.112942e-02</td>\n",
       "      <td>0.012690</td>\n",
       "      <td>0.026671</td>\n",
       "      <td>0.010294</td>\n",
       "      <td>0.008014</td>\n",
       "      <td>-32115.701853</td>\n",
       "      <td>32967.761368</td>\n",
       "      <td>-2465.159538</td>\n",
       "    </tr>\n",
       "  </tbody>\n",
       "</table>\n",
       "<p>5 rows × 129 columns</p>\n",
       "</div>"
      ],
      "text/plain": [
       "     1         2    3         4    5         6    7         8    9        10  \\\n",
       "0  1.0  0.044077  1.0  0.041169  1.0  0.033000  1.0  0.026685  1.0  0.028808   \n",
       "1  2.0  0.024537  2.0  0.042026  2.0  0.009387  1.0  0.004651  1.0  0.025020   \n",
       "2  1.0  0.035546  0.0  0.000600  1.0  0.034716  1.0  0.015709  1.0  0.021109   \n",
       "3  2.0  0.008966  1.0  0.041194  1.0  0.012014  3.0  0.026286  1.0  0.010697   \n",
       "4  2.0  0.033230  1.0  0.040996  1.0  0.028153  2.0  0.033730  1.0  0.023253   \n",
       "\n",
       "   ...       120       121           122       123       124       125  \\\n",
       "0  ...  0.012973  0.007351  1.184261e-02  0.009127  0.009132  0.007816   \n",
       "1  ...  0.031675  0.004881  7.576224e-03  0.000499  0.000050  0.002791   \n",
       "2  ...  0.028359  0.012269  3.604302e-07  0.014554  0.004899  0.008797   \n",
       "3  ...  0.011094  0.001026  1.602504e-02  0.000480  0.035177  0.000410   \n",
       "4  ...  0.066298  0.008602  1.112942e-02  0.012690  0.026671  0.010294   \n",
       "\n",
       "        126           127           128           129  \n",
       "0  0.009006 -15341.353319  -4413.513983  41560.037527  \n",
       "1  0.009023  -1822.483734  45617.318220   1207.707245  \n",
       "2  0.019044  -8183.801947   6728.230562 -12585.299725  \n",
       "3  0.045863 -28657.887161 -21242.160113 -49104.022378  \n",
       "4  0.008014 -32115.701853  32967.761368  -2465.159538  \n",
       "\n",
       "[5 rows x 129 columns]"
      ]
     },
     "execution_count": 7,
     "metadata": {},
     "output_type": "execute_result"
    }
   ],
   "source": [
    "df.head()"
   ]
  },
  {
   "cell_type": "code",
   "execution_count": 8,
   "id": "4a9d8bec",
   "metadata": {},
   "outputs": [
    {
     "name": "stdout",
     "output_type": "stream",
     "text": [
      "              127           128           129\n",
      "0   -15341.353319  -4413.513983  41560.037527\n",
      "1    -1822.483734  45617.318220   1207.707245\n",
      "2    -8183.801947   6728.230562 -12585.299725\n",
      "3   -28657.887161 -21242.160113 -49104.022378\n",
      "4   -32115.701853  32967.761368  -2465.159538\n",
      "..            ...           ...           ...\n",
      "175  -2219.860081 -22098.123300 -21463.258495\n",
      "176 -32895.315995   1161.172467  47443.375774\n",
      "177   4601.857045  20406.034058  20057.039197\n",
      "178  -9419.460657   6453.314360   -951.769398\n",
      "179  21643.666007   1023.975870  -1269.676959\n",
      "\n",
      "[180 rows x 3 columns]\n"
     ]
    }
   ],
   "source": [
    "N = 3\n",
    "# Select last N columns of dataframe\n",
    "last_n_column  = df.iloc[: , -N:]\n",
    "print(last_n_column)\n",
    "\n",
    "N = 120\n",
    "# Select first N columns\n",
    "first_n_column  = df.iloc[: , :N]"
   ]
  },
  {
   "cell_type": "code",
   "execution_count": 9,
   "id": "df3f4eb0",
   "metadata": {},
   "outputs": [],
   "source": [
    "from sklearn.model_selection import train_test_split\n",
    "X_train, X_test, Y_train, Y_test = train_test_split(last_n_column, totalLable, test_size=0.3, shuffle=True)"
   ]
  },
  {
   "cell_type": "code",
   "execution_count": 10,
   "id": "f0ccd3be",
   "metadata": {},
   "outputs": [
    {
     "name": "stdout",
     "output_type": "stream",
     "text": [
      "Accuracy on training set is : 0.42063492063492064\n",
      "Accuracy on test set is : 0.14814814814814814\n",
      "              precision    recall  f1-score   support\n",
      "\n",
      "           1       0.00      0.00      0.00         2\n",
      "           2       0.50      0.17      0.25         6\n",
      "           4       0.17      0.10      0.12        10\n",
      "           5       0.17      0.56      0.26         9\n",
      "           7       0.00      0.00      0.00         6\n",
      "           8       0.06      0.17      0.09         6\n",
      "          10       0.00      0.00      0.00         1\n",
      "          11       0.00      0.00      0.00         4\n",
      "          12       0.00      0.00      0.00         2\n",
      "          13       0.00      0.00      0.00         2\n",
      "          14       0.00      0.00      0.00         6\n",
      "\n",
      "    accuracy                           0.15        54\n",
      "   macro avg       0.08      0.09      0.07        54\n",
      "weighted avg       0.12      0.15      0.10        54\n",
      "\n",
      "[5 5 5 5 8 8 5 4 5 8 8 5 5 5 2 8 5 8 5 5 8 8 8 5 5 5 5 4 5 8 5 4 8 4 5 8 8\n",
      " 5 8 5 5 5 5 8 5 4 8 5 8 4 5 5 5 2]\n",
      "[ 5  1 11  5  4 14 14 12 14 14  4 10  5 14  2  5 11  7  2  1  5  7  4  4\n",
      "  4  7  5  4  7  4 11 13  8  8  8  7  5 11  2 12  8  5  4  2  2 13  2  8\n",
      "  4  8  7  4 14  5]\n"
     ]
    },
    {
     "name": "stderr",
     "output_type": "stream",
     "text": [
      "C:\\Users\\hjk0811\\anaconda3\\envs\\gpu\\lib\\site-packages\\sklearn\\metrics\\_classification.py:1327: UndefinedMetricWarning: Precision and F-score are ill-defined and being set to 0.0 in labels with no predicted samples. Use `zero_division` parameter to control this behavior.\n",
      "  _warn_prf(average, modifier, msg_start, len(result))\n",
      "C:\\Users\\hjk0811\\anaconda3\\envs\\gpu\\lib\\site-packages\\sklearn\\metrics\\_classification.py:1327: UndefinedMetricWarning: Precision and F-score are ill-defined and being set to 0.0 in labels with no predicted samples. Use `zero_division` parameter to control this behavior.\n",
      "  _warn_prf(average, modifier, msg_start, len(result))\n",
      "C:\\Users\\hjk0811\\anaconda3\\envs\\gpu\\lib\\site-packages\\sklearn\\metrics\\_classification.py:1327: UndefinedMetricWarning: Precision and F-score are ill-defined and being set to 0.0 in labels with no predicted samples. Use `zero_division` parameter to control this behavior.\n",
      "  _warn_prf(average, modifier, msg_start, len(result))\n"
     ]
    }
   ],
   "source": [
    "from sklearn.ensemble import RandomForestClassifier\n",
    "from sklearn.metrics import classification_report\n",
    "#from sklearn.linear_model import LogisticRegression\n",
    "clf = RandomForestClassifier(n_estimators=1000, max_depth=3)\n",
    "#clf = LogisticRegression(random_state=0).fit(X_train, Y_train.ravel())\n",
    "clf.fit(X_train, Y_train.ravel())\n",
    "print(\"Accuracy on training set is : {}\".format(clf.score(X_train, Y_train)))\n",
    "print(\"Accuracy on test set is : {}\".format(clf.score(X_test, Y_test)))\n",
    "Y_test_pred = clf.predict(X_test)\n",
    "print(classification_report(Y_test, Y_test_pred))\n",
    "\n",
    "print(Y_test_pred)\n",
    "print(Y_test)"
   ]
  },
  {
   "cell_type": "code",
   "execution_count": 11,
   "id": "5288c113",
   "metadata": {
    "executionInfo": {
     "elapsed": 463,
     "status": "ok",
     "timestamp": 1668215929082,
     "user": {
      "displayName": "Nolapat Pipitvitayakul",
      "userId": "16329361076236577044"
     },
     "user_tz": 360
    },
    "id": "5288c113"
   },
   "outputs": [],
   "source": [
    "from sklearn.model_selection import train_test_split\n",
    "X_train, X_test, Y_train, Y_test = train_test_split(df, totalLable, test_size=0.3, shuffle=True)"
   ]
  },
  {
   "cell_type": "code",
   "execution_count": 12,
   "id": "47bb57fd",
   "metadata": {
    "colab": {
     "base_uri": "https://localhost:8080/"
    },
    "executionInfo": {
     "elapsed": 2461,
     "status": "ok",
     "timestamp": 1668215931536,
     "user": {
      "displayName": "Nolapat Pipitvitayakul",
      "userId": "16329361076236577044"
     },
     "user_tz": 360
    },
    "id": "47bb57fd",
    "outputId": "aa0cd6e5-039d-4717-a6da-15b780994e73"
   },
   "outputs": [
    {
     "name": "stdout",
     "output_type": "stream",
     "text": [
      "Accuracy on training set is : 0.7222222222222222\n",
      "Accuracy on test set is : 0.2222222222222222\n",
      "              precision    recall  f1-score   support\n",
      "\n",
      "           1       0.00      0.00      0.00         2\n",
      "           2       1.00      0.25      0.40         4\n",
      "           3       0.00      0.00      0.00         2\n",
      "           4       0.08      0.17      0.11         6\n",
      "           5       0.27      0.55      0.36        11\n",
      "           7       0.33      0.25      0.29         4\n",
      "           8       0.17      0.11      0.13         9\n",
      "           9       0.00      0.00      0.00         3\n",
      "          10       0.00      0.00      0.00         1\n",
      "          11       0.00      0.00      0.00         4\n",
      "          12       0.00      0.00      0.00         1\n",
      "          13       0.00      0.00      0.00         2\n",
      "          14       0.22      0.67      0.33         3\n",
      "          15       0.00      0.00      0.00         2\n",
      "\n",
      "    accuracy                           0.22        54\n",
      "   macro avg       0.15      0.14      0.12        54\n",
      "weighted avg       0.20      0.22      0.18        54\n",
      "\n",
      "[ 5  4 14  7  5  5  7  5 14 14  5  5  4  5  8  2 14  4 14  4  4  5  4  4\n",
      "  5  4  8  4  5  4  5  5  8  5  5  4  5 14  5 14  5  4  5  8  5 14  5 14\n",
      "  5  5  8  8  4  7]\n",
      "[ 5 11  8  5 15  5  9  5  2  4 11  8  2 14 15  2 14  2 14  8  4  5  8 11\n",
      " 12  8  8  8  1  9  7  8  4  7  5  1  3  5  4 13  3  8 11  4  7  9 13  5\n",
      "  5  4  5 10  5  7]\n"
     ]
    },
    {
     "name": "stderr",
     "output_type": "stream",
     "text": [
      "C:\\Users\\hjk0811\\anaconda3\\envs\\gpu\\lib\\site-packages\\sklearn\\metrics\\_classification.py:1327: UndefinedMetricWarning: Precision and F-score are ill-defined and being set to 0.0 in labels with no predicted samples. Use `zero_division` parameter to control this behavior.\n",
      "  _warn_prf(average, modifier, msg_start, len(result))\n",
      "C:\\Users\\hjk0811\\anaconda3\\envs\\gpu\\lib\\site-packages\\sklearn\\metrics\\_classification.py:1327: UndefinedMetricWarning: Precision and F-score are ill-defined and being set to 0.0 in labels with no predicted samples. Use `zero_division` parameter to control this behavior.\n",
      "  _warn_prf(average, modifier, msg_start, len(result))\n",
      "C:\\Users\\hjk0811\\anaconda3\\envs\\gpu\\lib\\site-packages\\sklearn\\metrics\\_classification.py:1327: UndefinedMetricWarning: Precision and F-score are ill-defined and being set to 0.0 in labels with no predicted samples. Use `zero_division` parameter to control this behavior.\n",
      "  _warn_prf(average, modifier, msg_start, len(result))\n"
     ]
    }
   ],
   "source": [
    "from sklearn.ensemble import RandomForestClassifier\n",
    "from sklearn.metrics import classification_report\n",
    "#from sklearn.linear_model import LogisticRegression\n",
    "clf = RandomForestClassifier(n_estimators=1000, max_depth=3)\n",
    "#clf = LogisticRegression(random_state=0).fit(X_train, Y_train.ravel())\n",
    "clf.fit(X_train, Y_train.ravel())\n",
    "print(\"Accuracy on training set is : {}\".format(clf.score(X_train, Y_train)))\n",
    "print(\"Accuracy on test set is : {}\".format(clf.score(X_test, Y_test)))\n",
    "Y_test_pred = clf.predict(X_test)\n",
    "print(classification_report(Y_test, Y_test_pred))\n",
    "\n",
    "print(Y_test_pred)\n",
    "print(Y_test)"
   ]
  },
  {
   "cell_type": "code",
   "execution_count": 13,
   "id": "1016750b",
   "metadata": {},
   "outputs": [
    {
     "data": {
      "text/plain": [
       "array([ 5,  4, 14,  7,  5,  5,  7,  5, 14, 14,  5,  5,  4,  5,  8,  2, 14,\n",
       "        4, 14,  4,  4,  5,  4,  4,  5,  4,  8,  4,  5,  4,  5,  5,  8,  5,\n",
       "        5,  4,  5, 14,  5, 14,  5,  4,  5,  8,  5, 14,  5, 14,  5,  5,  8,\n",
       "        8,  4,  7])"
      ]
     },
     "execution_count": 13,
     "metadata": {},
     "output_type": "execute_result"
    }
   ],
   "source": [
    "from joblib import Parallel, delayed\n",
    "import joblib\n",
    "\n",
    "# Save the model as a pickle in a file\n",
    "joblib.dump(clf, 'feature129.pkl')\n",
    "  \n",
    "# Load the model from the file\n",
    "clf_from_joblib = joblib.load('feature129.pkl')\n",
    "  \n",
    "# Use the loaded model to make predictions\n",
    "clf_from_joblib.predict(X_test)"
   ]
  },
  {
   "cell_type": "code",
   "execution_count": 14,
   "id": "eb7b2d78",
   "metadata": {
    "colab": {
     "base_uri": "https://localhost:8080/",
     "height": 297
    },
    "executionInfo": {
     "elapsed": 1548,
     "status": "ok",
     "timestamp": 1668215933074,
     "user": {
      "displayName": "Nolapat Pipitvitayakul",
      "userId": "16329361076236577044"
     },
     "user_tz": 360
    },
    "id": "eb7b2d78",
    "outputId": "922cdaa0-6206-4a6b-950a-4d960c27bf4e"
   },
   "outputs": [],
   "source": [
    "# from sklearn.inspection import permutation_importance\n",
    "# importances = clf.feature_importances_\n",
    "\n",
    "# totalLable = totalLable.reshape(1, x) \n",
    "# totalLable = totalLable.flatten()\n",
    "# myList = list(range(1, ))\n",
    "# forest_importances = pd.Series(importances, index=myList)\n",
    "# std = np.std([tree.feature_importances_ for tree in clf.estimators_], axis=0)\n",
    "\n",
    "# fig, ax = plt.subplots()\n",
    "# forest_importances.plot.bar(yerr=std, ax=ax)\n",
    "# ax.set_title(\"Feature importances using MDI\")\n",
    "# ax.set_ylabel(\"Mean decrease in impurity\")\n",
    "# fig.tight_layout()"
   ]
  },
  {
   "cell_type": "code",
   "execution_count": 15,
   "id": "BZuxM3RKvjuB",
   "metadata": {
    "colab": {
     "base_uri": "https://localhost:8080/",
     "height": 297
    },
    "executionInfo": {
     "elapsed": 1492,
     "status": "ok",
     "timestamp": 1668215934556,
     "user": {
      "displayName": "Nolapat Pipitvitayakul",
      "userId": "16329361076236577044"
     },
     "user_tz": 360
    },
    "id": "BZuxM3RKvjuB",
    "outputId": "29fa55cf-a1db-4f75-e34c-06c0b489dbff"
   },
   "outputs": [
    {
     "data": {
      "image/png": "[encoded data removed]",
      "text/plain": [
       "<Figure size 640x480 with 1 Axes>"
      ]
     },
     "metadata": {},
     "output_type": "display_data"
    }
   ],
   "source": [
    "importances = clf.feature_importances_\n",
    "sorted_indices = np.argsort(importances)[::-1]\n",
    "plt.title('Feature Importance')\n",
    "plt.bar(range(X_train.shape[1]), importances[sorted_indices], align='center')\n",
    "plt.xticks(range(X_train.shape[1]), df.columns[sorted_indices], rotation=90)\n",
    "plt.tight_layout()\n",
    "plt.show()"
   ]
  },
  {
   "cell_type": "code",
   "execution_count": 16,
   "id": "5E14cy85xCow",
   "metadata": {
    "colab": {
     "base_uri": "https://localhost:8080/"
    },
    "executionInfo": {
     "elapsed": 13,
     "status": "ok",
     "timestamp": 1668215934557,
     "user": {
      "displayName": "Nolapat Pipitvitayakul",
      "userId": "16329361076236577044"
     },
     "user_tz": 360
    },
    "id": "5E14cy85xCow",
    "outputId": "45d74b3d-4317-4c0b-a4ca-5a2c959a9362"
   },
   "outputs": [
    {
     "data": {
      "text/plain": [
       "array([0.02635272, 0.02006277, 0.01923136, 0.01863023, 0.01800833,\n",
       "       0.01746091, 0.01725957, 0.01696713, 0.01595463, 0.01572593,\n",
       "       0.01554441, 0.01552832, 0.0136182 , 0.01335797, 0.01334219,\n",
       "       0.0131084 , 0.01290438, 0.0128756 , 0.01285166, 0.01243367])"
      ]
     },
     "execution_count": 16,
     "metadata": {},
     "output_type": "execute_result"
    }
   ],
   "source": [
    "importances[sorted_indices][0:20]"
   ]
  },
  {
   "cell_type": "code",
   "execution_count": 17,
   "id": "6e5EeQXm0wuh",
   "metadata": {
    "colab": {
     "base_uri": "https://localhost:8080/"
    },
    "executionInfo": {
     "elapsed": 10,
     "status": "ok",
     "timestamp": 1668215934558,
     "user": {
      "displayName": "Nolapat Pipitvitayakul",
      "userId": "16329361076236577044"
     },
     "user_tz": 360
    },
    "id": "6e5EeQXm0wuh",
    "outputId": "9d33d0d3-9f62-4abe-d18d-7053c78121a4"
   },
   "outputs": [
    {
     "data": {
      "text/plain": [
       "Index(['46', '84', '108', '10', '40', '118', '70', '30', '127', '94', '58',\n",
       "       '82', '38', '54', '106', '34', '7', '112', '123', '6'],\n",
       "      dtype='object')"
      ]
     },
     "execution_count": 17,
     "metadata": {},
     "output_type": "execute_result"
    }
   ],
   "source": [
    "df.columns[sorted_indices][0:20]"
   ]
  },
  {
   "cell_type": "code",
   "execution_count": 18,
   "id": "SrCGfvqT6xoJ",
   "metadata": {
    "executionInfo": {
     "elapsed": 8,
     "status": "ok",
     "timestamp": 1668215934559,
     "user": {
      "displayName": "Nolapat Pipitvitayakul",
      "userId": "16329361076236577044"
     },
     "user_tz": 360
    },
    "id": "SrCGfvqT6xoJ"
   },
   "outputs": [],
   "source": [
    "df2 = df[df.columns[sorted_indices][0:20]]"
   ]
  },
  {
   "cell_type": "code",
   "execution_count": 19,
   "id": "nGYp2xHb635_",
   "metadata": {
    "colab": {
     "base_uri": "https://localhost:8080/",
     "height": 661
    },
    "executionInfo": {
     "elapsed": 229,
     "status": "ok",
     "timestamp": 1668215934780,
     "user": {
      "displayName": "Nolapat Pipitvitayakul",
      "userId": "16329361076236577044"
     },
     "user_tz": 360
    },
    "id": "nGYp2xHb635_",
    "outputId": "a189c3d6-229a-4a24-e47c-39891248eace"
   },
   "outputs": [
    {
     "data": {
      "text/html": [
       "<div>\n",
       "<style scoped>\n",
       "    .dataframe tbody tr th:only-of-type {\n",
       "        vertical-align: middle;\n",
       "    }\n",
       "\n",
       "    .dataframe tbody tr th {\n",
       "        vertical-align: top;\n",
       "    }\n",
       "\n",
       "    .dataframe thead th {\n",
       "        text-align: right;\n",
       "    }\n",
       "</style>\n",
       "<table border=\"1\" class=\"dataframe\">\n",
       "  <thead>\n",
       "    <tr style=\"text-align: right;\">\n",
       "      <th></th>\n",
       "      <th>46</th>\n",
       "      <th>84</th>\n",
       "      <th>108</th>\n",
       "      <th>10</th>\n",
       "      <th>40</th>\n",
       "      <th>118</th>\n",
       "      <th>70</th>\n",
       "      <th>30</th>\n",
       "      <th>127</th>\n",
       "      <th>94</th>\n",
       "      <th>58</th>\n",
       "      <th>82</th>\n",
       "      <th>38</th>\n",
       "      <th>54</th>\n",
       "      <th>106</th>\n",
       "      <th>34</th>\n",
       "      <th>7</th>\n",
       "      <th>112</th>\n",
       "      <th>123</th>\n",
       "      <th>6</th>\n",
       "    </tr>\n",
       "  </thead>\n",
       "  <tbody>\n",
       "    <tr>\n",
       "      <th>0</th>\n",
       "      <td>0.150125</td>\n",
       "      <td>0.015352</td>\n",
       "      <td>0.017651</td>\n",
       "      <td>0.028808</td>\n",
       "      <td>0.064408</td>\n",
       "      <td>0.015821</td>\n",
       "      <td>0.063846</td>\n",
       "      <td>0.019359</td>\n",
       "      <td>-15341.353319</td>\n",
       "      <td>0.015821</td>\n",
       "      <td>0.025934</td>\n",
       "      <td>0.016351</td>\n",
       "      <td>1.911607e-02</td>\n",
       "      <td>0.024993</td>\n",
       "      <td>0.013509</td>\n",
       "      <td>0.023824</td>\n",
       "      <td>1.0</td>\n",
       "      <td>0.030315</td>\n",
       "      <td>9.126889e-03</td>\n",
       "      <td>0.033000</td>\n",
       "    </tr>\n",
       "    <tr>\n",
       "      <th>1</th>\n",
       "      <td>0.034733</td>\n",
       "      <td>0.022570</td>\n",
       "      <td>0.015072</td>\n",
       "      <td>0.025020</td>\n",
       "      <td>0.022818</td>\n",
       "      <td>0.032984</td>\n",
       "      <td>0.032984</td>\n",
       "      <td>0.002864</td>\n",
       "      <td>-1822.483734</td>\n",
       "      <td>0.032984</td>\n",
       "      <td>0.009928</td>\n",
       "      <td>0.009310</td>\n",
       "      <td>4.354125e-02</td>\n",
       "      <td>0.002009</td>\n",
       "      <td>0.009492</td>\n",
       "      <td>0.010089</td>\n",
       "      <td>1.0</td>\n",
       "      <td>0.003140</td>\n",
       "      <td>4.992152e-04</td>\n",
       "      <td>0.009387</td>\n",
       "    </tr>\n",
       "    <tr>\n",
       "      <th>2</th>\n",
       "      <td>0.095008</td>\n",
       "      <td>0.016292</td>\n",
       "      <td>0.022305</td>\n",
       "      <td>0.021109</td>\n",
       "      <td>0.000000</td>\n",
       "      <td>0.029766</td>\n",
       "      <td>0.027669</td>\n",
       "      <td>0.027394</td>\n",
       "      <td>-8183.801947</td>\n",
       "      <td>0.029786</td>\n",
       "      <td>0.025719</td>\n",
       "      <td>0.016316</td>\n",
       "      <td>1.916030e-02</td>\n",
       "      <td>0.035468</td>\n",
       "      <td>0.015252</td>\n",
       "      <td>0.020247</td>\n",
       "      <td>1.0</td>\n",
       "      <td>0.000000</td>\n",
       "      <td>1.455419e-02</td>\n",
       "      <td>0.034716</td>\n",
       "    </tr>\n",
       "    <tr>\n",
       "      <th>3</th>\n",
       "      <td>0.043307</td>\n",
       "      <td>0.025854</td>\n",
       "      <td>0.020789</td>\n",
       "      <td>0.010697</td>\n",
       "      <td>0.059360</td>\n",
       "      <td>0.043307</td>\n",
       "      <td>0.043307</td>\n",
       "      <td>0.002850</td>\n",
       "      <td>-28657.887161</td>\n",
       "      <td>0.043307</td>\n",
       "      <td>0.003355</td>\n",
       "      <td>0.003355</td>\n",
       "      <td>3.298740e-02</td>\n",
       "      <td>0.002850</td>\n",
       "      <td>0.003355</td>\n",
       "      <td>0.003355</td>\n",
       "      <td>3.0</td>\n",
       "      <td>0.035283</td>\n",
       "      <td>4.800356e-04</td>\n",
       "      <td>0.012014</td>\n",
       "    </tr>\n",
       "    <tr>\n",
       "      <th>4</th>\n",
       "      <td>0.038427</td>\n",
       "      <td>0.021975</td>\n",
       "      <td>0.018237</td>\n",
       "      <td>0.023253</td>\n",
       "      <td>0.080188</td>\n",
       "      <td>0.025660</td>\n",
       "      <td>0.042849</td>\n",
       "      <td>0.023142</td>\n",
       "      <td>-32115.701853</td>\n",
       "      <td>0.026922</td>\n",
       "      <td>0.020603</td>\n",
       "      <td>0.017166</td>\n",
       "      <td>1.855390e-02</td>\n",
       "      <td>0.017791</td>\n",
       "      <td>0.029829</td>\n",
       "      <td>0.024635</td>\n",
       "      <td>2.0</td>\n",
       "      <td>0.015608</td>\n",
       "      <td>1.268954e-02</td>\n",
       "      <td>0.028153</td>\n",
       "    </tr>\n",
       "    <tr>\n",
       "      <th>...</th>\n",
       "      <td>...</td>\n",
       "      <td>...</td>\n",
       "      <td>...</td>\n",
       "      <td>...</td>\n",
       "      <td>...</td>\n",
       "      <td>...</td>\n",
       "      <td>...</td>\n",
       "      <td>...</td>\n",
       "      <td>...</td>\n",
       "      <td>...</td>\n",
       "      <td>...</td>\n",
       "      <td>...</td>\n",
       "      <td>...</td>\n",
       "      <td>...</td>\n",
       "      <td>...</td>\n",
       "      <td>...</td>\n",
       "      <td>...</td>\n",
       "      <td>...</td>\n",
       "      <td>...</td>\n",
       "      <td>...</td>\n",
       "    </tr>\n",
       "    <tr>\n",
       "      <th>175</th>\n",
       "      <td>0.012243</td>\n",
       "      <td>0.007845</td>\n",
       "      <td>0.008791</td>\n",
       "      <td>0.010850</td>\n",
       "      <td>0.002565</td>\n",
       "      <td>0.012243</td>\n",
       "      <td>0.012243</td>\n",
       "      <td>0.023607</td>\n",
       "      <td>-2219.860081</td>\n",
       "      <td>0.012243</td>\n",
       "      <td>0.004386</td>\n",
       "      <td>0.005520</td>\n",
       "      <td>1.705575e-02</td>\n",
       "      <td>0.021602</td>\n",
       "      <td>0.004386</td>\n",
       "      <td>0.006179</td>\n",
       "      <td>1.0</td>\n",
       "      <td>0.002565</td>\n",
       "      <td>8.243405e-03</td>\n",
       "      <td>0.014754</td>\n",
       "    </tr>\n",
       "    <tr>\n",
       "      <th>176</th>\n",
       "      <td>0.000711</td>\n",
       "      <td>0.007038</td>\n",
       "      <td>0.007038</td>\n",
       "      <td>0.005323</td>\n",
       "      <td>0.026230</td>\n",
       "      <td>0.000711</td>\n",
       "      <td>0.000711</td>\n",
       "      <td>0.014417</td>\n",
       "      <td>-32895.315995</td>\n",
       "      <td>0.000711</td>\n",
       "      <td>0.004127</td>\n",
       "      <td>0.004127</td>\n",
       "      <td>1.804935e-03</td>\n",
       "      <td>0.023220</td>\n",
       "      <td>0.004127</td>\n",
       "      <td>0.004127</td>\n",
       "      <td>4.0</td>\n",
       "      <td>0.002770</td>\n",
       "      <td>6.478148e-03</td>\n",
       "      <td>0.022563</td>\n",
       "    </tr>\n",
       "    <tr>\n",
       "      <th>177</th>\n",
       "      <td>0.047963</td>\n",
       "      <td>0.019786</td>\n",
       "      <td>0.018133</td>\n",
       "      <td>0.028001</td>\n",
       "      <td>0.102655</td>\n",
       "      <td>0.082917</td>\n",
       "      <td>0.059293</td>\n",
       "      <td>0.054581</td>\n",
       "      <td>4601.857045</td>\n",
       "      <td>0.080940</td>\n",
       "      <td>0.020531</td>\n",
       "      <td>0.023519</td>\n",
       "      <td>3.930242e-02</td>\n",
       "      <td>0.032200</td>\n",
       "      <td>0.023486</td>\n",
       "      <td>0.020236</td>\n",
       "      <td>1.0</td>\n",
       "      <td>0.014662</td>\n",
       "      <td>1.459475e-02</td>\n",
       "      <td>0.023984</td>\n",
       "    </tr>\n",
       "    <tr>\n",
       "      <th>178</th>\n",
       "      <td>0.009862</td>\n",
       "      <td>0.007329</td>\n",
       "      <td>0.008424</td>\n",
       "      <td>0.010428</td>\n",
       "      <td>0.000183</td>\n",
       "      <td>0.010475</td>\n",
       "      <td>0.010475</td>\n",
       "      <td>0.000816</td>\n",
       "      <td>-9419.460657</td>\n",
       "      <td>0.010475</td>\n",
       "      <td>0.010193</td>\n",
       "      <td>0.012329</td>\n",
       "      <td>7.700621e-06</td>\n",
       "      <td>0.000816</td>\n",
       "      <td>0.007771</td>\n",
       "      <td>0.008391</td>\n",
       "      <td>3.0</td>\n",
       "      <td>0.000183</td>\n",
       "      <td>7.578574e-07</td>\n",
       "      <td>0.000816</td>\n",
       "    </tr>\n",
       "    <tr>\n",
       "      <th>179</th>\n",
       "      <td>0.003315</td>\n",
       "      <td>0.000868</td>\n",
       "      <td>0.000868</td>\n",
       "      <td>0.000053</td>\n",
       "      <td>0.000003</td>\n",
       "      <td>0.003315</td>\n",
       "      <td>0.003315</td>\n",
       "      <td>0.019452</td>\n",
       "      <td>21643.666007</td>\n",
       "      <td>0.003315</td>\n",
       "      <td>0.000053</td>\n",
       "      <td>0.000053</td>\n",
       "      <td>2.263383e-09</td>\n",
       "      <td>0.018477</td>\n",
       "      <td>0.000053</td>\n",
       "      <td>0.000053</td>\n",
       "      <td>0.0</td>\n",
       "      <td>0.000003</td>\n",
       "      <td>9.216000e-03</td>\n",
       "      <td>0.023202</td>\n",
       "    </tr>\n",
       "  </tbody>\n",
       "</table>\n",
       "<p>180 rows × 20 columns</p>\n",
       "</div>"
      ],
      "text/plain": [
       "           46        84       108        10        40       118        70  \\\n",
       "0    0.150125  0.015352  0.017651  0.028808  0.064408  0.015821  0.063846   \n",
       "1    0.034733  0.022570  0.015072  0.025020  0.022818  0.032984  0.032984   \n",
       "2    0.095008  0.016292  0.022305  0.021109  0.000000  0.029766  0.027669   \n",
       "3    0.043307  0.025854  0.020789  0.010697  0.059360  0.043307  0.043307   \n",
       "4    0.038427  0.021975  0.018237  0.023253  0.080188  0.025660  0.042849   \n",
       "..        ...       ...       ...       ...       ...       ...       ...   \n",
       "175  0.012243  0.007845  0.008791  0.010850  0.002565  0.012243  0.012243   \n",
       "176  0.000711  0.007038  0.007038  0.005323  0.026230  0.000711  0.000711   \n",
       "177  0.047963  0.019786  0.018133  0.028001  0.102655  0.082917  0.059293   \n",
       "178  0.009862  0.007329  0.008424  0.010428  0.000183  0.010475  0.010475   \n",
       "179  0.003315  0.000868  0.000868  0.000053  0.000003  0.003315  0.003315   \n",
       "\n",
       "           30           127        94        58        82            38  \\\n",
       "0    0.019359 -15341.353319  0.015821  0.025934  0.016351  1.911607e-02   \n",
       "1    0.002864  -1822.483734  0.032984  0.009928  0.009310  4.354125e-02   \n",
       "2    0.027394  -8183.801947  0.029786  0.025719  0.016316  1.916030e-02   \n",
       "3    0.002850 -28657.887161  0.043307  0.003355  0.003355  3.298740e-02   \n",
       "4    0.023142 -32115.701853  0.026922  0.020603  0.017166  1.855390e-02   \n",
       "..        ...           ...       ...       ...       ...           ...   \n",
       "175  0.023607  -2219.860081  0.012243  0.004386  0.005520  1.705575e-02   \n",
       "176  0.014417 -32895.315995  0.000711  0.004127  0.004127  1.804935e-03   \n",
       "177  0.054581   4601.857045  0.080940  0.020531  0.023519  3.930242e-02   \n",
       "178  0.000816  -9419.460657  0.010475  0.010193  0.012329  7.700621e-06   \n",
       "179  0.019452  21643.666007  0.003315  0.000053  0.000053  2.263383e-09   \n",
       "\n",
       "           54       106        34    7       112           123         6  \n",
       "0    0.024993  0.013509  0.023824  1.0  0.030315  9.126889e-03  0.033000  \n",
       "1    0.002009  0.009492  0.010089  1.0  0.003140  4.992152e-04  0.009387  \n",
       "2    0.035468  0.015252  0.020247  1.0  0.000000  1.455419e-02  0.034716  \n",
       "3    0.002850  0.003355  0.003355  3.0  0.035283  4.800356e-04  0.012014  \n",
       "4    0.017791  0.029829  0.024635  2.0  0.015608  1.268954e-02  0.028153  \n",
       "..        ...       ...       ...  ...       ...           ...       ...  \n",
       "175  0.021602  0.004386  0.006179  1.0  0.002565  8.243405e-03  0.014754  \n",
       "176  0.023220  0.004127  0.004127  4.0  0.002770  6.478148e-03  0.022563  \n",
       "177  0.032200  0.023486  0.020236  1.0  0.014662  1.459475e-02  0.023984  \n",
       "178  0.000816  0.007771  0.008391  3.0  0.000183  7.578574e-07  0.000816  \n",
       "179  0.018477  0.000053  0.000053  0.0  0.000003  9.216000e-03  0.023202  \n",
       "\n",
       "[180 rows x 20 columns]"
      ]
     },
     "execution_count": 19,
     "metadata": {},
     "output_type": "execute_result"
    }
   ],
   "source": [
    "df2"
   ]
  },
  {
   "cell_type": "code",
   "execution_count": 20,
   "id": "UpruKHk17TTt",
   "metadata": {
    "colab": {
     "base_uri": "https://localhost:8080/"
    },
    "executionInfo": {
     "elapsed": 29,
     "status": "ok",
     "timestamp": 1668215934782,
     "user": {
      "displayName": "Nolapat Pipitvitayakul",
      "userId": "16329361076236577044"
     },
     "user_tz": 360
    },
    "id": "UpruKHk17TTt",
    "outputId": "cea3d229-f460-47c5-d6ea-4c72f9ef9e97"
   },
   "outputs": [
    {
     "name": "stderr",
     "output_type": "stream",
     "text": [
      "C:\\Users\\hjk0811\\AppData\\Local\\Temp\\ipykernel_16948\\1665477033.py:1: SettingWithCopyWarning: \n",
      "A value is trying to be set on a copy of a slice from a DataFrame.\n",
      "Try using .loc[row_indexer,col_indexer] = value instead\n",
      "\n",
      "See the caveats in the documentation: https://pandas.pydata.org/pandas-docs/stable/user_guide/indexing.html#returning-a-view-versus-a-copy\n",
      "  df2['label'] = totalLable\n"
     ]
    }
   ],
   "source": [
    "df2['label'] = totalLable"
   ]
  },
  {
   "cell_type": "code",
   "execution_count": 21,
   "id": "xFngMGms7VTv",
   "metadata": {
    "colab": {
     "base_uri": "https://localhost:8080/",
     "height": 661
    },
    "executionInfo": {
     "elapsed": 20,
     "status": "ok",
     "timestamp": 1668215934783,
     "user": {
      "displayName": "Nolapat Pipitvitayakul",
      "userId": "16329361076236577044"
     },
     "user_tz": 360
    },
    "id": "xFngMGms7VTv",
    "outputId": "193d2f39-2ede-4b21-aef2-1e06eb955a25"
   },
   "outputs": [
    {
     "data": {
      "text/html": [
       "<div>\n",
       "<style scoped>\n",
       "    .dataframe tbody tr th:only-of-type {\n",
       "        vertical-align: middle;\n",
       "    }\n",
       "\n",
       "    .dataframe tbody tr th {\n",
       "        vertical-align: top;\n",
       "    }\n",
       "\n",
       "    .dataframe thead th {\n",
       "        text-align: right;\n",
       "    }\n",
       "</style>\n",
       "<table border=\"1\" class=\"dataframe\">\n",
       "  <thead>\n",
       "    <tr style=\"text-align: right;\">\n",
       "      <th></th>\n",
       "      <th>46</th>\n",
       "      <th>84</th>\n",
       "      <th>108</th>\n",
       "      <th>10</th>\n",
       "      <th>40</th>\n",
       "      <th>118</th>\n",
       "      <th>70</th>\n",
       "      <th>30</th>\n",
       "      <th>127</th>\n",
       "      <th>94</th>\n",
       "      <th>...</th>\n",
       "      <th>82</th>\n",
       "      <th>38</th>\n",
       "      <th>54</th>\n",
       "      <th>106</th>\n",
       "      <th>34</th>\n",
       "      <th>7</th>\n",
       "      <th>112</th>\n",
       "      <th>123</th>\n",
       "      <th>6</th>\n",
       "      <th>label</th>\n",
       "    </tr>\n",
       "  </thead>\n",
       "  <tbody>\n",
       "    <tr>\n",
       "      <th>0</th>\n",
       "      <td>0.150125</td>\n",
       "      <td>0.015352</td>\n",
       "      <td>0.017651</td>\n",
       "      <td>0.028808</td>\n",
       "      <td>0.064408</td>\n",
       "      <td>0.015821</td>\n",
       "      <td>0.063846</td>\n",
       "      <td>0.019359</td>\n",
       "      <td>-15341.353319</td>\n",
       "      <td>0.015821</td>\n",
       "      <td>...</td>\n",
       "      <td>0.016351</td>\n",
       "      <td>1.911607e-02</td>\n",
       "      <td>0.024993</td>\n",
       "      <td>0.013509</td>\n",
       "      <td>0.023824</td>\n",
       "      <td>1.0</td>\n",
       "      <td>0.030315</td>\n",
       "      <td>9.126889e-03</td>\n",
       "      <td>0.033000</td>\n",
       "      <td>1</td>\n",
       "    </tr>\n",
       "    <tr>\n",
       "      <th>1</th>\n",
       "      <td>0.034733</td>\n",
       "      <td>0.022570</td>\n",
       "      <td>0.015072</td>\n",
       "      <td>0.025020</td>\n",
       "      <td>0.022818</td>\n",
       "      <td>0.032984</td>\n",
       "      <td>0.032984</td>\n",
       "      <td>0.002864</td>\n",
       "      <td>-1822.483734</td>\n",
       "      <td>0.032984</td>\n",
       "      <td>...</td>\n",
       "      <td>0.009310</td>\n",
       "      <td>4.354125e-02</td>\n",
       "      <td>0.002009</td>\n",
       "      <td>0.009492</td>\n",
       "      <td>0.010089</td>\n",
       "      <td>1.0</td>\n",
       "      <td>0.003140</td>\n",
       "      <td>4.992152e-04</td>\n",
       "      <td>0.009387</td>\n",
       "      <td>1</td>\n",
       "    </tr>\n",
       "    <tr>\n",
       "      <th>2</th>\n",
       "      <td>0.095008</td>\n",
       "      <td>0.016292</td>\n",
       "      <td>0.022305</td>\n",
       "      <td>0.021109</td>\n",
       "      <td>0.000000</td>\n",
       "      <td>0.029766</td>\n",
       "      <td>0.027669</td>\n",
       "      <td>0.027394</td>\n",
       "      <td>-8183.801947</td>\n",
       "      <td>0.029786</td>\n",
       "      <td>...</td>\n",
       "      <td>0.016316</td>\n",
       "      <td>1.916030e-02</td>\n",
       "      <td>0.035468</td>\n",
       "      <td>0.015252</td>\n",
       "      <td>0.020247</td>\n",
       "      <td>1.0</td>\n",
       "      <td>0.000000</td>\n",
       "      <td>1.455419e-02</td>\n",
       "      <td>0.034716</td>\n",
       "      <td>1</td>\n",
       "    </tr>\n",
       "    <tr>\n",
       "      <th>3</th>\n",
       "      <td>0.043307</td>\n",
       "      <td>0.025854</td>\n",
       "      <td>0.020789</td>\n",
       "      <td>0.010697</td>\n",
       "      <td>0.059360</td>\n",
       "      <td>0.043307</td>\n",
       "      <td>0.043307</td>\n",
       "      <td>0.002850</td>\n",
       "      <td>-28657.887161</td>\n",
       "      <td>0.043307</td>\n",
       "      <td>...</td>\n",
       "      <td>0.003355</td>\n",
       "      <td>3.298740e-02</td>\n",
       "      <td>0.002850</td>\n",
       "      <td>0.003355</td>\n",
       "      <td>0.003355</td>\n",
       "      <td>3.0</td>\n",
       "      <td>0.035283</td>\n",
       "      <td>4.800356e-04</td>\n",
       "      <td>0.012014</td>\n",
       "      <td>1</td>\n",
       "    </tr>\n",
       "    <tr>\n",
       "      <th>4</th>\n",
       "      <td>0.038427</td>\n",
       "      <td>0.021975</td>\n",
       "      <td>0.018237</td>\n",
       "      <td>0.023253</td>\n",
       "      <td>0.080188</td>\n",
       "      <td>0.025660</td>\n",
       "      <td>0.042849</td>\n",
       "      <td>0.023142</td>\n",
       "      <td>-32115.701853</td>\n",
       "      <td>0.026922</td>\n",
       "      <td>...</td>\n",
       "      <td>0.017166</td>\n",
       "      <td>1.855390e-02</td>\n",
       "      <td>0.017791</td>\n",
       "      <td>0.029829</td>\n",
       "      <td>0.024635</td>\n",
       "      <td>2.0</td>\n",
       "      <td>0.015608</td>\n",
       "      <td>1.268954e-02</td>\n",
       "      <td>0.028153</td>\n",
       "      <td>1</td>\n",
       "    </tr>\n",
       "    <tr>\n",
       "      <th>...</th>\n",
       "      <td>...</td>\n",
       "      <td>...</td>\n",
       "      <td>...</td>\n",
       "      <td>...</td>\n",
       "      <td>...</td>\n",
       "      <td>...</td>\n",
       "      <td>...</td>\n",
       "      <td>...</td>\n",
       "      <td>...</td>\n",
       "      <td>...</td>\n",
       "      <td>...</td>\n",
       "      <td>...</td>\n",
       "      <td>...</td>\n",
       "      <td>...</td>\n",
       "      <td>...</td>\n",
       "      <td>...</td>\n",
       "      <td>...</td>\n",
       "      <td>...</td>\n",
       "      <td>...</td>\n",
       "      <td>...</td>\n",
       "      <td>...</td>\n",
       "    </tr>\n",
       "    <tr>\n",
       "      <th>175</th>\n",
       "      <td>0.012243</td>\n",
       "      <td>0.007845</td>\n",
       "      <td>0.008791</td>\n",
       "      <td>0.010850</td>\n",
       "      <td>0.002565</td>\n",
       "      <td>0.012243</td>\n",
       "      <td>0.012243</td>\n",
       "      <td>0.023607</td>\n",
       "      <td>-2219.860081</td>\n",
       "      <td>0.012243</td>\n",
       "      <td>...</td>\n",
       "      <td>0.005520</td>\n",
       "      <td>1.705575e-02</td>\n",
       "      <td>0.021602</td>\n",
       "      <td>0.004386</td>\n",
       "      <td>0.006179</td>\n",
       "      <td>1.0</td>\n",
       "      <td>0.002565</td>\n",
       "      <td>8.243405e-03</td>\n",
       "      <td>0.014754</td>\n",
       "      <td>8</td>\n",
       "    </tr>\n",
       "    <tr>\n",
       "      <th>176</th>\n",
       "      <td>0.000711</td>\n",
       "      <td>0.007038</td>\n",
       "      <td>0.007038</td>\n",
       "      <td>0.005323</td>\n",
       "      <td>0.026230</td>\n",
       "      <td>0.000711</td>\n",
       "      <td>0.000711</td>\n",
       "      <td>0.014417</td>\n",
       "      <td>-32895.315995</td>\n",
       "      <td>0.000711</td>\n",
       "      <td>...</td>\n",
       "      <td>0.004127</td>\n",
       "      <td>1.804935e-03</td>\n",
       "      <td>0.023220</td>\n",
       "      <td>0.004127</td>\n",
       "      <td>0.004127</td>\n",
       "      <td>4.0</td>\n",
       "      <td>0.002770</td>\n",
       "      <td>6.478148e-03</td>\n",
       "      <td>0.022563</td>\n",
       "      <td>9</td>\n",
       "    </tr>\n",
       "    <tr>\n",
       "      <th>177</th>\n",
       "      <td>0.047963</td>\n",
       "      <td>0.019786</td>\n",
       "      <td>0.018133</td>\n",
       "      <td>0.028001</td>\n",
       "      <td>0.102655</td>\n",
       "      <td>0.082917</td>\n",
       "      <td>0.059293</td>\n",
       "      <td>0.054581</td>\n",
       "      <td>4601.857045</td>\n",
       "      <td>0.080940</td>\n",
       "      <td>...</td>\n",
       "      <td>0.023519</td>\n",
       "      <td>3.930242e-02</td>\n",
       "      <td>0.032200</td>\n",
       "      <td>0.023486</td>\n",
       "      <td>0.020236</td>\n",
       "      <td>1.0</td>\n",
       "      <td>0.014662</td>\n",
       "      <td>1.459475e-02</td>\n",
       "      <td>0.023984</td>\n",
       "      <td>9</td>\n",
       "    </tr>\n",
       "    <tr>\n",
       "      <th>178</th>\n",
       "      <td>0.009862</td>\n",
       "      <td>0.007329</td>\n",
       "      <td>0.008424</td>\n",
       "      <td>0.010428</td>\n",
       "      <td>0.000183</td>\n",
       "      <td>0.010475</td>\n",
       "      <td>0.010475</td>\n",
       "      <td>0.000816</td>\n",
       "      <td>-9419.460657</td>\n",
       "      <td>0.010475</td>\n",
       "      <td>...</td>\n",
       "      <td>0.012329</td>\n",
       "      <td>7.700621e-06</td>\n",
       "      <td>0.000816</td>\n",
       "      <td>0.007771</td>\n",
       "      <td>0.008391</td>\n",
       "      <td>3.0</td>\n",
       "      <td>0.000183</td>\n",
       "      <td>7.578574e-07</td>\n",
       "      <td>0.000816</td>\n",
       "      <td>9</td>\n",
       "    </tr>\n",
       "    <tr>\n",
       "      <th>179</th>\n",
       "      <td>0.003315</td>\n",
       "      <td>0.000868</td>\n",
       "      <td>0.000868</td>\n",
       "      <td>0.000053</td>\n",
       "      <td>0.000003</td>\n",
       "      <td>0.003315</td>\n",
       "      <td>0.003315</td>\n",
       "      <td>0.019452</td>\n",
       "      <td>21643.666007</td>\n",
       "      <td>0.003315</td>\n",
       "      <td>...</td>\n",
       "      <td>0.000053</td>\n",
       "      <td>2.263383e-09</td>\n",
       "      <td>0.018477</td>\n",
       "      <td>0.000053</td>\n",
       "      <td>0.000053</td>\n",
       "      <td>0.0</td>\n",
       "      <td>0.000003</td>\n",
       "      <td>9.216000e-03</td>\n",
       "      <td>0.023202</td>\n",
       "      <td>9</td>\n",
       "    </tr>\n",
       "  </tbody>\n",
       "</table>\n",
       "<p>180 rows × 21 columns</p>\n",
       "</div>"
      ],
      "text/plain": [
       "           46        84       108        10        40       118        70  \\\n",
       "0    0.150125  0.015352  0.017651  0.028808  0.064408  0.015821  0.063846   \n",
       "1    0.034733  0.022570  0.015072  0.025020  0.022818  0.032984  0.032984   \n",
       "2    0.095008  0.016292  0.022305  0.021109  0.000000  0.029766  0.027669   \n",
       "3    0.043307  0.025854  0.020789  0.010697  0.059360  0.043307  0.043307   \n",
       "4    0.038427  0.021975  0.018237  0.023253  0.080188  0.025660  0.042849   \n",
       "..        ...       ...       ...       ...       ...       ...       ...   \n",
       "175  0.012243  0.007845  0.008791  0.010850  0.002565  0.012243  0.012243   \n",
       "176  0.000711  0.007038  0.007038  0.005323  0.026230  0.000711  0.000711   \n",
       "177  0.047963  0.019786  0.018133  0.028001  0.102655  0.082917  0.059293   \n",
       "178  0.009862  0.007329  0.008424  0.010428  0.000183  0.010475  0.010475   \n",
       "179  0.003315  0.000868  0.000868  0.000053  0.000003  0.003315  0.003315   \n",
       "\n",
       "           30           127        94  ...        82            38        54  \\\n",
       "0    0.019359 -15341.353319  0.015821  ...  0.016351  1.911607e-02  0.024993   \n",
       "1    0.002864  -1822.483734  0.032984  ...  0.009310  4.354125e-02  0.002009   \n",
       "2    0.027394  -8183.801947  0.029786  ...  0.016316  1.916030e-02  0.035468   \n",
       "3    0.002850 -28657.887161  0.043307  ...  0.003355  3.298740e-02  0.002850   \n",
       "4    0.023142 -32115.701853  0.026922  ...  0.017166  1.855390e-02  0.017791   \n",
       "..        ...           ...       ...  ...       ...           ...       ...   \n",
       "175  0.023607  -2219.860081  0.012243  ...  0.005520  1.705575e-02  0.021602   \n",
       "176  0.014417 -32895.315995  0.000711  ...  0.004127  1.804935e-03  0.023220   \n",
       "177  0.054581   4601.857045  0.080940  ...  0.023519  3.930242e-02  0.032200   \n",
       "178  0.000816  -9419.460657  0.010475  ...  0.012329  7.700621e-06  0.000816   \n",
       "179  0.019452  21643.666007  0.003315  ...  0.000053  2.263383e-09  0.018477   \n",
       "\n",
       "          106        34    7       112           123         6  label  \n",
       "0    0.013509  0.023824  1.0  0.030315  9.126889e-03  0.033000      1  \n",
       "1    0.009492  0.010089  1.0  0.003140  4.992152e-04  0.009387      1  \n",
       "2    0.015252  0.020247  1.0  0.000000  1.455419e-02  0.034716      1  \n",
       "3    0.003355  0.003355  3.0  0.035283  4.800356e-04  0.012014      1  \n",
       "4    0.029829  0.024635  2.0  0.015608  1.268954e-02  0.028153      1  \n",
       "..        ...       ...  ...       ...           ...       ...    ...  \n",
       "175  0.004386  0.006179  1.0  0.002565  8.243405e-03  0.014754      8  \n",
       "176  0.004127  0.004127  4.0  0.002770  6.478148e-03  0.022563      9  \n",
       "177  0.023486  0.020236  1.0  0.014662  1.459475e-02  0.023984      9  \n",
       "178  0.007771  0.008391  3.0  0.000183  7.578574e-07  0.000816      9  \n",
       "179  0.000053  0.000053  0.0  0.000003  9.216000e-03  0.023202      9  \n",
       "\n",
       "[180 rows x 21 columns]"
      ]
     },
     "execution_count": 21,
     "metadata": {},
     "output_type": "execute_result"
    }
   ],
   "source": [
    "df2"
   ]
  },
  {
   "cell_type": "code",
   "execution_count": 22,
   "id": "vuHwTUG37gfZ",
   "metadata": {
    "executionInfo": {
     "elapsed": 18,
     "status": "ok",
     "timestamp": 1668215934783,
     "user": {
      "displayName": "Nolapat Pipitvitayakul",
      "userId": "16329361076236577044"
     },
     "user_tz": 360
    },
    "id": "vuHwTUG37gfZ"
   },
   "outputs": [],
   "source": [
    "x = df2.drop(\"label\", axis=1)\n",
    "y = df2['label'].astype(int).values"
   ]
  },
  {
   "cell_type": "code",
   "execution_count": 23,
   "id": "8575abaf",
   "metadata": {
    "executionInfo": {
     "elapsed": 17,
     "status": "ok",
     "timestamp": 1668215934784,
     "user": {
      "displayName": "Nolapat Pipitvitayakul",
      "userId": "16329361076236577044"
     },
     "user_tz": 360
    },
    "id": "8575abaf"
   },
   "outputs": [],
   "source": [
    "from sklearn.model_selection import train_test_split\n",
    "X_train, X_test, Y_train, Y_test = train_test_split(x, y, test_size=0.3, shuffle=True)"
   ]
  },
  {
   "cell_type": "code",
   "execution_count": 24,
   "id": "3acb43d3",
   "metadata": {
    "colab": {
     "base_uri": "https://localhost:8080/"
    },
    "executionInfo": {
     "elapsed": 1885,
     "status": "ok",
     "timestamp": 1668215936652,
     "user": {
      "displayName": "Nolapat Pipitvitayakul",
      "userId": "16329361076236577044"
     },
     "user_tz": 360
    },
    "id": "3acb43d3",
    "outputId": "54e2e1c4-2a2a-4ec8-b287-cbd9699b14df"
   },
   "outputs": [
    {
     "name": "stdout",
     "output_type": "stream",
     "text": [
      "Accuracy on training set is : 0.6825396825396826\n",
      "Accuracy on test set is : 0.2037037037037037\n",
      "              precision    recall  f1-score   support\n",
      "\n",
      "           1       0.00      0.00      0.00         2\n",
      "           2       1.00      0.33      0.50         6\n",
      "           3       0.00      0.00      0.00         3\n",
      "           4       0.18      0.33      0.24         6\n",
      "           5       0.27      0.25      0.26        12\n",
      "           6       0.00      0.00      0.00         1\n",
      "           7       0.00      0.00      0.00         1\n",
      "           8       0.18      0.50      0.26         6\n",
      "           9       0.00      0.00      0.00         3\n",
      "          10       0.00      0.00      0.00         3\n",
      "          11       0.00      0.00      0.00         4\n",
      "          12       0.00      0.00      0.00         2\n",
      "          13       0.00      0.00      0.00         2\n",
      "          14       0.09      0.50      0.15         2\n",
      "          15       0.00      0.00      0.00         1\n",
      "\n",
      "    accuracy                           0.20        54\n",
      "   macro avg       0.11      0.13      0.09        54\n",
      "weighted avg       0.21      0.20      0.17        54\n",
      "\n",
      "[ 2  4 14  5  4 14 14 14  4  8 14  5  5  8  8  5  8  8  5  4  5  8  8  8\n",
      "  8  4  4  5  4  5 14  8  7  4 14  4 14  7  5 14  5 14 14  4  2  5  8  8\n",
      "  8  8  4  8  8  8]\n",
      "[ 2 13 10  8  9 12 11  4  4  5 14 10 15  8  8  5  2  4 14  4  5  6 11  4\n",
      " 11  8  3  9  8 12  4  2  5  5  5  2  5  3  3 13  7  9  5  5  2  5  5 10\n",
      "  5  1 11  2  8  1]\n"
     ]
    },
    {
     "name": "stderr",
     "output_type": "stream",
     "text": [
      "C:\\Users\\hjk0811\\anaconda3\\envs\\gpu\\lib\\site-packages\\sklearn\\metrics\\_classification.py:1327: UndefinedMetricWarning: Precision and F-score are ill-defined and being set to 0.0 in labels with no predicted samples. Use `zero_division` parameter to control this behavior.\n",
      "  _warn_prf(average, modifier, msg_start, len(result))\n",
      "C:\\Users\\hjk0811\\anaconda3\\envs\\gpu\\lib\\site-packages\\sklearn\\metrics\\_classification.py:1327: UndefinedMetricWarning: Precision and F-score are ill-defined and being set to 0.0 in labels with no predicted samples. Use `zero_division` parameter to control this behavior.\n",
      "  _warn_prf(average, modifier, msg_start, len(result))\n",
      "C:\\Users\\hjk0811\\anaconda3\\envs\\gpu\\lib\\site-packages\\sklearn\\metrics\\_classification.py:1327: UndefinedMetricWarning: Precision and F-score are ill-defined and being set to 0.0 in labels with no predicted samples. Use `zero_division` parameter to control this behavior.\n",
      "  _warn_prf(average, modifier, msg_start, len(result))\n"
     ]
    }
   ],
   "source": [
    "from sklearn.ensemble import RandomForestClassifier\n",
    "from sklearn.metrics import classification_report\n",
    "#from sklearn.linear_model import LogisticRegression\n",
    "clf = RandomForestClassifier(n_estimators=1000, max_depth=3)\n",
    "#clf = LogisticRegression(random_state=0).fit(X_train, Y_train.ravel())\n",
    "clf.fit(X_train, Y_train.ravel())\n",
    "print(\"Accuracy on training set is : {}\".format(clf.score(X_train, Y_train)))\n",
    "print(\"Accuracy on test set is : {}\".format(clf.score(X_test, Y_test)))\n",
    "Y_test_pred = clf.predict(X_test)\n",
    "print(classification_report(Y_test, Y_test_pred))\n",
    "\n",
    "print(Y_test_pred)\n",
    "print(Y_test)"
   ]
  },
  {
   "cell_type": "code",
   "execution_count": 25,
   "id": "_MnybFopNWhM",
   "metadata": {
    "executionInfo": {
     "elapsed": 21,
     "status": "ok",
     "timestamp": 1668215936655,
     "user": {
      "displayName": "Nolapat Pipitvitayakul",
      "userId": "16329361076236577044"
     },
     "user_tz": 360
    },
    "id": "_MnybFopNWhM"
   },
   "outputs": [],
   "source": [
    "from sklearn import neighbors\n",
    "from sklearn.metrics import accuracy_score\n",
    "from sklearn.metrics import classification_report\n",
    "from sklearn.metrics import confusion_matrix\n",
    "from sklearn.metrics import f1_score\n",
    "from sklearn.metrics import precision_score"
   ]
  },
  {
   "cell_type": "code",
   "execution_count": 26,
   "id": "f3uUwfRtN8lD",
   "metadata": {
    "colab": {
     "base_uri": "https://localhost:8080/"
    },
    "executionInfo": {
     "elapsed": 299,
     "status": "ok",
     "timestamp": 1668215936934,
     "user": {
      "displayName": "Nolapat Pipitvitayakul",
      "userId": "16329361076236577044"
     },
     "user_tz": 360
    },
    "id": "f3uUwfRtN8lD",
    "outputId": "373dfd3c-9dc4-4883-b11a-caa35c5b0120"
   },
   "outputs": [
    {
     "name": "stdout",
     "output_type": "stream",
     "text": [
      "[[0 1 0 0 1 0 0 0 0 0 0 0 0 0 0]\n",
      " [1 3 0 2 0 0 0 0 0 0 0 0 0 0 0]\n",
      " [1 1 0 0 1 0 0 0 0 0 0 0 0 0 0]\n",
      " [0 1 0 2 2 0 0 1 0 0 0 0 0 0 0]\n",
      " [0 1 0 7 2 0 2 0 0 0 0 0 0 0 0]\n",
      " [0 1 0 0 0 0 0 0 0 0 0 0 0 0 0]\n",
      " [0 0 0 0 0 1 0 0 0 0 0 0 0 0 0]\n",
      " [0 3 0 2 1 0 0 0 0 0 0 0 0 0 0]\n",
      " [0 0 0 0 2 0 0 0 0 0 1 0 0 0 0]\n",
      " [0 1 0 0 0 0 1 1 0 0 0 0 0 0 0]\n",
      " [0 2 0 0 2 0 0 0 0 0 0 0 0 0 0]\n",
      " [0 0 0 0 0 1 1 0 0 0 0 0 0 0 0]\n",
      " [0 1 0 1 0 0 0 0 0 0 0 0 0 0 0]\n",
      " [0 1 0 0 1 0 0 0 0 0 0 0 0 0 0]\n",
      " [0 1 0 0 0 0 0 0 0 0 0 0 0 0 0]]\n",
      "47\n",
      "              precision    recall  f1-score   support\n",
      "\n",
      "           1       0.00      0.00      0.00         2\n",
      "           2       0.18      0.50      0.26         6\n",
      "           3       0.00      0.00      0.00         3\n",
      "           4       0.14      0.33      0.20         6\n",
      "           5       0.17      0.17      0.17        12\n",
      "           6       0.00      0.00      0.00         1\n",
      "           7       0.00      0.00      0.00         1\n",
      "           8       0.00      0.00      0.00         6\n",
      "           9       0.00      0.00      0.00         3\n",
      "          10       0.00      0.00      0.00         3\n",
      "          11       0.00      0.00      0.00         4\n",
      "          12       0.00      0.00      0.00         2\n",
      "          13       0.00      0.00      0.00         2\n",
      "          14       0.00      0.00      0.00         2\n",
      "          15       0.00      0.00      0.00         1\n",
      "\n",
      "    accuracy                           0.13        54\n",
      "   macro avg       0.03      0.07      0.04        54\n",
      "weighted avg       0.07      0.13      0.09        54\n",
      "\n"
     ]
    },
    {
     "name": "stderr",
     "output_type": "stream",
     "text": [
      "C:\\Users\\hjk0811\\anaconda3\\envs\\gpu\\lib\\site-packages\\sklearn\\metrics\\_classification.py:1327: UndefinedMetricWarning: Precision and F-score are ill-defined and being set to 0.0 in labels with no predicted samples. Use `zero_division` parameter to control this behavior.\n",
      "  _warn_prf(average, modifier, msg_start, len(result))\n",
      "C:\\Users\\hjk0811\\anaconda3\\envs\\gpu\\lib\\site-packages\\sklearn\\metrics\\_classification.py:1327: UndefinedMetricWarning: Precision and F-score are ill-defined and being set to 0.0 in labels with no predicted samples. Use `zero_division` parameter to control this behavior.\n",
      "  _warn_prf(average, modifier, msg_start, len(result))\n",
      "C:\\Users\\hjk0811\\anaconda3\\envs\\gpu\\lib\\site-packages\\sklearn\\metrics\\_classification.py:1327: UndefinedMetricWarning: Precision and F-score are ill-defined and being set to 0.0 in labels with no predicted samples. Use `zero_division` parameter to control this behavior.\n",
      "  _warn_prf(average, modifier, msg_start, len(result))\n"
     ]
    }
   ],
   "source": [
    "clf = neighbors.KNeighborsClassifier(n_neighbors=3)\n",
    "clf.fit(X_train, Y_train)\n",
    "y_pred = clf.predict(X_test)\n",
    "cm = confusion_matrix(Y_test, y_pred)\n",
    "misclassified = np.sum(cm) - np.sum(np.diag(cm))\n",
    "print(cm)\n",
    "print(misclassified)\n",
    "print(classification_report(Y_test, y_pred))"
   ]
  },
  {
   "cell_type": "code",
   "execution_count": 27,
   "id": "DAZn8UHYN-Ok",
   "metadata": {
    "colab": {
     "base_uri": "https://localhost:8080/"
    },
    "executionInfo": {
     "elapsed": 47,
     "status": "ok",
     "timestamp": 1668215936936,
     "user": {
      "displayName": "Nolapat Pipitvitayakul",
      "userId": "16329361076236577044"
     },
     "user_tz": 360
    },
    "id": "DAZn8UHYN-Ok",
    "outputId": "e1adc74c-d91b-49ec-cb2d-ca19adfd04b4"
   },
   "outputs": [
    {
     "name": "stdout",
     "output_type": "stream",
     "text": [
      "[[0 1 0 0 1 0 0 0 0 0 0 0 0 0 0]\n",
      " [1 3 0 2 0 0 0 0 0 0 0 0 0 0 0]\n",
      " [1 1 0 1 0 0 0 0 0 0 0 0 0 0 0]\n",
      " [0 3 0 0 2 0 0 1 0 0 0 0 0 0 0]\n",
      " [0 1 0 5 2 0 1 3 0 0 0 0 0 0 0]\n",
      " [0 0 0 0 0 0 0 0 0 0 0 0 1 0 0]\n",
      " [0 0 0 1 0 0 0 0 0 0 0 0 0 0 0]\n",
      " [0 2 0 2 1 0 0 0 0 0 0 0 1 0 0]\n",
      " [0 0 0 0 2 0 0 0 0 0 1 0 0 0 0]\n",
      " [0 1 0 0 2 0 0 0 0 0 0 0 0 0 0]\n",
      " [0 2 0 0 2 0 0 0 0 0 0 0 0 0 0]\n",
      " [0 0 0 1 1 0 0 0 0 0 0 0 0 0 0]\n",
      " [0 2 0 0 0 0 0 0 0 0 0 0 0 0 0]\n",
      " [0 1 0 0 1 0 0 0 0 0 0 0 0 0 0]\n",
      " [0 1 0 0 0 0 0 0 0 0 0 0 0 0 0]]\n",
      "49\n",
      "              precision    recall  f1-score   support\n",
      "\n",
      "           1       0.00      0.00      0.00         2\n",
      "           2       0.17      0.50      0.25         6\n",
      "           3       0.00      0.00      0.00         3\n",
      "           4       0.00      0.00      0.00         6\n",
      "           5       0.14      0.17      0.15        12\n",
      "           6       0.00      0.00      0.00         1\n",
      "           7       0.00      0.00      0.00         1\n",
      "           8       0.00      0.00      0.00         6\n",
      "           9       0.00      0.00      0.00         3\n",
      "          10       0.00      0.00      0.00         3\n",
      "          11       0.00      0.00      0.00         4\n",
      "          12       0.00      0.00      0.00         2\n",
      "          13       0.00      0.00      0.00         2\n",
      "          14       0.00      0.00      0.00         2\n",
      "          15       0.00      0.00      0.00         1\n",
      "\n",
      "    accuracy                           0.09        54\n",
      "   macro avg       0.02      0.04      0.03        54\n",
      "weighted avg       0.05      0.09      0.06        54\n",
      "\n"
     ]
    },
    {
     "name": "stderr",
     "output_type": "stream",
     "text": [
      "C:\\Users\\hjk0811\\anaconda3\\envs\\gpu\\lib\\site-packages\\sklearn\\metrics\\_classification.py:1327: UndefinedMetricWarning: Precision and F-score are ill-defined and being set to 0.0 in labels with no predicted samples. Use `zero_division` parameter to control this behavior.\n",
      "  _warn_prf(average, modifier, msg_start, len(result))\n",
      "C:\\Users\\hjk0811\\anaconda3\\envs\\gpu\\lib\\site-packages\\sklearn\\metrics\\_classification.py:1327: UndefinedMetricWarning: Precision and F-score are ill-defined and being set to 0.0 in labels with no predicted samples. Use `zero_division` parameter to control this behavior.\n",
      "  _warn_prf(average, modifier, msg_start, len(result))\n",
      "C:\\Users\\hjk0811\\anaconda3\\envs\\gpu\\lib\\site-packages\\sklearn\\metrics\\_classification.py:1327: UndefinedMetricWarning: Precision and F-score are ill-defined and being set to 0.0 in labels with no predicted samples. Use `zero_division` parameter to control this behavior.\n",
      "  _warn_prf(average, modifier, msg_start, len(result))\n"
     ]
    }
   ],
   "source": [
    "clf = neighbors.KNeighborsClassifier(n_neighbors=5)\n",
    "clf.fit(X_train, Y_train)\n",
    "y_pred = clf.predict(X_test)\n",
    "cm = confusion_matrix(Y_test, y_pred)\n",
    "misclassified = np.sum(cm) - np.sum(np.diag(cm))\n",
    "print(cm)\n",
    "print(misclassified)\n",
    "print(classification_report(Y_test, y_pred))"
   ]
  },
  {
   "cell_type": "code",
   "execution_count": 28,
   "id": "92PZO41tOKB3",
   "metadata": {
    "colab": {
     "base_uri": "https://localhost:8080/"
    },
    "executionInfo": {
     "elapsed": 42,
     "status": "ok",
     "timestamp": 1668215936939,
     "user": {
      "displayName": "Nolapat Pipitvitayakul",
      "userId": "16329361076236577044"
     },
     "user_tz": 360
    },
    "id": "92PZO41tOKB3",
    "outputId": "f79ee318-2378-486b-e8b8-9d7f5e667eb7"
   },
   "outputs": [
    {
     "name": "stdout",
     "output_type": "stream",
     "text": [
      "[[0 0 0 0 0 0 0 0 0 2 0 0 0 0 0]\n",
      " [0 0 0 0 0 0 0 0 0 4 0 0 2 0 0]\n",
      " [0 0 0 0 0 0 0 0 0 3 0 0 0 0 0]\n",
      " [0 0 0 0 0 0 0 0 0 2 0 0 4 0 0]\n",
      " [0 0 0 0 0 0 0 0 0 8 0 0 4 0 0]\n",
      " [0 0 0 0 0 0 0 0 0 0 0 0 1 0 0]\n",
      " [0 0 0 0 1 0 0 0 0 0 0 0 0 0 0]\n",
      " [0 0 0 0 0 0 0 0 0 4 0 0 2 0 0]\n",
      " [0 0 0 0 0 0 0 0 0 2 0 0 1 0 0]\n",
      " [0 0 0 0 0 0 0 0 0 2 0 0 1 0 0]\n",
      " [0 0 0 0 0 0 0 0 0 2 0 0 2 0 0]\n",
      " [0 0 0 0 1 0 0 0 0 0 0 0 1 0 0]\n",
      " [0 0 0 0 0 0 0 0 0 1 0 0 1 0 0]\n",
      " [0 0 0 0 0 0 0 0 0 1 0 0 1 0 0]\n",
      " [0 0 0 0 0 0 0 0 0 0 0 0 1 0 0]]\n",
      "51\n",
      "              precision    recall  f1-score   support\n",
      "\n",
      "           1       0.00      0.00      0.00         2\n",
      "           2       0.00      0.00      0.00         6\n",
      "           3       0.00      0.00      0.00         3\n",
      "           4       0.00      0.00      0.00         6\n",
      "           5       0.00      0.00      0.00        12\n",
      "           6       0.00      0.00      0.00         1\n",
      "           7       0.00      0.00      0.00         1\n",
      "           8       0.00      0.00      0.00         6\n",
      "           9       0.00      0.00      0.00         3\n",
      "          10       0.06      0.67      0.12         3\n",
      "          11       0.00      0.00      0.00         4\n",
      "          12       0.00      0.00      0.00         2\n",
      "          13       0.05      0.50      0.09         2\n",
      "          14       0.00      0.00      0.00         2\n",
      "          15       0.00      0.00      0.00         1\n",
      "\n",
      "    accuracy                           0.06        54\n",
      "   macro avg       0.01      0.08      0.01        54\n",
      "weighted avg       0.01      0.06      0.01        54\n",
      "\n"
     ]
    },
    {
     "name": "stderr",
     "output_type": "stream",
     "text": [
      "C:\\Users\\hjk0811\\anaconda3\\envs\\gpu\\lib\\site-packages\\sklearn\\metrics\\_classification.py:1327: UndefinedMetricWarning: Precision and F-score are ill-defined and being set to 0.0 in labels with no predicted samples. Use `zero_division` parameter to control this behavior.\n",
      "  _warn_prf(average, modifier, msg_start, len(result))\n",
      "C:\\Users\\hjk0811\\anaconda3\\envs\\gpu\\lib\\site-packages\\sklearn\\metrics\\_classification.py:1327: UndefinedMetricWarning: Precision and F-score are ill-defined and being set to 0.0 in labels with no predicted samples. Use `zero_division` parameter to control this behavior.\n",
      "  _warn_prf(average, modifier, msg_start, len(result))\n",
      "C:\\Users\\hjk0811\\anaconda3\\envs\\gpu\\lib\\site-packages\\sklearn\\metrics\\_classification.py:1327: UndefinedMetricWarning: Precision and F-score are ill-defined and being set to 0.0 in labels with no predicted samples. Use `zero_division` parameter to control this behavior.\n",
      "  _warn_prf(average, modifier, msg_start, len(result))\n"
     ]
    }
   ],
   "source": [
    "from sklearn.linear_model import LogisticRegression\n",
    "cls = LogisticRegression()\n",
    "cls.fit(X_train,Y_train)\n",
    "y_pred = cls.predict(X_test)\n",
    "cm = confusion_matrix(Y_test, y_pred)\n",
    "misclassified = np.sum(cm) - np.sum(np.diag(cm))\n",
    "print(cm)\n",
    "print(misclassified)\n",
    "print(classification_report(Y_test, y_pred))"
   ]
  },
  {
   "cell_type": "code",
   "execution_count": 29,
   "id": "21faa869",
   "metadata": {},
   "outputs": [
    {
     "name": "stdout",
     "output_type": "stream",
     "text": [
      "[[0 0 0 1 1 0 0 0 0 0 0 0 0 0 0]\n",
      " [0 3 0 0 2 0 1 0 0 0 0 0 0 0 0]\n",
      " [0 0 0 0 2 0 1 0 0 0 0 0 0 0 0]\n",
      " [0 0 0 2 2 0 0 2 0 0 0 0 0 0 0]\n",
      " [0 2 0 0 6 0 2 2 0 0 0 0 0 0 0]\n",
      " [0 0 0 0 0 0 0 1 0 0 0 0 0 0 0]\n",
      " [0 0 0 1 0 0 0 0 0 0 0 0 0 0 0]\n",
      " [0 2 0 1 3 0 0 0 0 0 0 0 0 0 0]\n",
      " [0 0 0 1 2 0 0 0 0 0 0 0 0 0 0]\n",
      " [0 1 0 0 1 0 0 1 0 0 0 0 0 0 0]\n",
      " [0 2 0 0 2 0 0 0 0 0 0 0 0 0 0]\n",
      " [0 0 0 1 1 0 0 0 0 0 0 0 0 0 0]\n",
      " [0 0 0 1 0 0 0 1 0 0 0 0 0 0 0]\n",
      " [0 1 0 0 1 0 0 0 0 0 0 0 0 0 0]\n",
      " [0 1 0 0 0 0 0 0 0 0 0 0 0 0 0]]\n",
      "43\n",
      "              precision    recall  f1-score   support\n",
      "\n",
      "           1       0.00      0.00      0.00         2\n",
      "           2       0.25      0.50      0.33         6\n",
      "           3       0.00      0.00      0.00         3\n",
      "           4       0.25      0.33      0.29         6\n",
      "           5       0.26      0.50      0.34        12\n",
      "           6       0.00      0.00      0.00         1\n",
      "           7       0.00      0.00      0.00         1\n",
      "           8       0.00      0.00      0.00         6\n",
      "           9       0.00      0.00      0.00         3\n",
      "          10       0.00      0.00      0.00         3\n",
      "          11       0.00      0.00      0.00         4\n",
      "          12       0.00      0.00      0.00         2\n",
      "          13       0.00      0.00      0.00         2\n",
      "          14       0.00      0.00      0.00         2\n",
      "          15       0.00      0.00      0.00         1\n",
      "\n",
      "    accuracy                           0.20        54\n",
      "   macro avg       0.05      0.09      0.06        54\n",
      "weighted avg       0.11      0.20      0.14        54\n",
      "\n"
     ]
    },
    {
     "name": "stderr",
     "output_type": "stream",
     "text": [
      "C:\\Users\\hjk0811\\anaconda3\\envs\\gpu\\lib\\site-packages\\sklearn\\metrics\\_classification.py:1327: UndefinedMetricWarning: Precision and F-score are ill-defined and being set to 0.0 in labels with no predicted samples. Use `zero_division` parameter to control this behavior.\n",
      "  _warn_prf(average, modifier, msg_start, len(result))\n",
      "C:\\Users\\hjk0811\\anaconda3\\envs\\gpu\\lib\\site-packages\\sklearn\\metrics\\_classification.py:1327: UndefinedMetricWarning: Precision and F-score are ill-defined and being set to 0.0 in labels with no predicted samples. Use `zero_division` parameter to control this behavior.\n",
      "  _warn_prf(average, modifier, msg_start, len(result))\n",
      "C:\\Users\\hjk0811\\anaconda3\\envs\\gpu\\lib\\site-packages\\sklearn\\metrics\\_classification.py:1327: UndefinedMetricWarning: Precision and F-score are ill-defined and being set to 0.0 in labels with no predicted samples. Use `zero_division` parameter to control this behavior.\n",
      "  _warn_prf(average, modifier, msg_start, len(result))\n"
     ]
    }
   ],
   "source": [
    "clf = neighbors.KNeighborsClassifier(n_neighbors=15)\n",
    "clf.fit(X_train, Y_train)\n",
    "y_pred = clf.predict(X_test)\n",
    "cm = confusion_matrix(Y_test, y_pred)\n",
    "misclassified = np.sum(cm) - np.sum(np.diag(cm))\n",
    "print(cm)\n",
    "print(misclassified)\n",
    "print(classification_report(Y_test, y_pred))"
   ]
  },
  {
   "cell_type": "code",
   "execution_count": 30,
   "id": "PfLGOZc8PNKD",
   "metadata": {
    "executionInfo": {
     "elapsed": 29,
     "status": "ok",
     "timestamp": 1668215936941,
     "user": {
      "displayName": "Nolapat Pipitvitayakul",
      "userId": "16329361076236577044"
     },
     "user_tz": 360
    },
    "id": "PfLGOZc8PNKD"
   },
   "outputs": [],
   "source": [
    "from sklearn.pipeline import Pipeline\n",
    "from sklearn.preprocessing import StandardScaler\n",
    "from sklearn.svm import LinearSVC\n",
    "from sklearn.svm import SVC\n",
    "from matplotlib import pyplot\n",
    "from pandas import DataFrame\n",
    "from sklearn.naive_bayes import GaussianNB\n",
    "from sklearn.linear_model import LogisticRegression\n",
    "from sklearn.naive_bayes import GaussianNB\n",
    "from sklearn.svm import SVC\n",
    "from sklearn.model_selection import train_test_split\n",
    "from sklearn.pipeline import make_pipeline\n",
    "from sklearn.preprocessing import StandardScaler\n",
    "import sklearn.metrics as metrics"
   ]
  },
  {
   "cell_type": "code",
   "execution_count": 31,
   "id": "j1S7uWiYPOYh",
   "metadata": {
    "colab": {
     "base_uri": "https://localhost:8080/"
    },
    "executionInfo": {
     "elapsed": 292,
     "status": "ok",
     "timestamp": 1668215937206,
     "user": {
      "displayName": "Nolapat Pipitvitayakul",
      "userId": "16329361076236577044"
     },
     "user_tz": 360
    },
    "id": "j1S7uWiYPOYh",
    "outputId": "d2d13746-4755-421f-e463-5a66f3fc8b94"
   },
   "outputs": [
    {
     "name": "stdout",
     "output_type": "stream",
     "text": [
      "[[1 1 0 0 0 0 0 0 0 0 0 0 0 0 0]\n",
      " [1 2 0 0 0 0 0 1 0 0 1 0 0 1 0]\n",
      " [0 0 0 1 1 0 1 0 0 0 0 0 0 0 0]\n",
      " [0 0 0 0 2 0 0 1 0 0 1 1 1 0 0]\n",
      " [1 2 0 1 2 0 1 1 0 0 0 0 1 2 1]\n",
      " [0 0 0 1 0 0 0 0 0 0 0 0 0 0 0]\n",
      " [0 0 0 0 1 0 0 0 0 0 0 0 0 0 0]\n",
      " [1 0 0 0 1 0 0 2 0 1 0 1 0 0 0]\n",
      " [0 0 0 0 1 0 0 1 0 1 0 0 0 0 0]\n",
      " [0 0 0 0 2 0 0 0 0 0 0 0 0 1 0]\n",
      " [0 0 0 2 1 0 0 0 0 0 0 0 0 1 0]\n",
      " [0 0 0 0 1 0 0 0 0 0 0 0 0 1 0]\n",
      " [0 0 0 0 0 0 0 1 0 0 0 0 0 1 0]\n",
      " [0 0 0 0 1 0 0 0 0 0 0 0 0 1 0]\n",
      " [0 0 0 0 0 0 0 0 0 0 0 0 0 1 0]]\n",
      "46\n",
      "              precision    recall  f1-score   support\n",
      "\n",
      "           1       0.25      0.50      0.33         2\n",
      "           2       0.40      0.33      0.36         6\n",
      "           3       0.00      0.00      0.00         3\n",
      "           4       0.00      0.00      0.00         6\n",
      "           5       0.15      0.17      0.16        12\n",
      "           6       0.00      0.00      0.00         1\n",
      "           7       0.00      0.00      0.00         1\n",
      "           8       0.29      0.33      0.31         6\n",
      "           9       0.00      0.00      0.00         3\n",
      "          10       0.00      0.00      0.00         3\n",
      "          11       0.00      0.00      0.00         4\n",
      "          12       0.00      0.00      0.00         2\n",
      "          13       0.00      0.00      0.00         2\n",
      "          14       0.11      0.50      0.18         2\n",
      "          15       0.00      0.00      0.00         1\n",
      "\n",
      "    accuracy                           0.15        54\n",
      "   macro avg       0.08      0.12      0.09        54\n",
      "weighted avg       0.12      0.15      0.13        54\n",
      "\n"
     ]
    },
    {
     "name": "stderr",
     "output_type": "stream",
     "text": [
      "C:\\Users\\hjk0811\\anaconda3\\envs\\gpu\\lib\\site-packages\\sklearn\\metrics\\_classification.py:1327: UndefinedMetricWarning: Precision and F-score are ill-defined and being set to 0.0 in labels with no predicted samples. Use `zero_division` parameter to control this behavior.\n",
      "  _warn_prf(average, modifier, msg_start, len(result))\n",
      "C:\\Users\\hjk0811\\anaconda3\\envs\\gpu\\lib\\site-packages\\sklearn\\metrics\\_classification.py:1327: UndefinedMetricWarning: Precision and F-score are ill-defined and being set to 0.0 in labels with no predicted samples. Use `zero_division` parameter to control this behavior.\n",
      "  _warn_prf(average, modifier, msg_start, len(result))\n",
      "C:\\Users\\hjk0811\\anaconda3\\envs\\gpu\\lib\\site-packages\\sklearn\\metrics\\_classification.py:1327: UndefinedMetricWarning: Precision and F-score are ill-defined and being set to 0.0 in labels with no predicted samples. Use `zero_division` parameter to control this behavior.\n",
      "  _warn_prf(average, modifier, msg_start, len(result))\n"
     ]
    }
   ],
   "source": [
    "pipe = make_pipeline(StandardScaler(), SVC(kernel='linear'))\n",
    "pipe.fit(X_train, Y_train)  # apply scaling on training data\n",
    "\n",
    "pipe.score(X_test, Y_test)  # apply scaling on testing data, without leaking training data.\n",
    "y_pred = pipe.predict(X_test)\n",
    "cm=confusion_matrix(Y_test, y_pred)\n",
    "misclassified = np.sum(cm) - np.sum(np.diag(cm))\n",
    "print(cm)\n",
    "print(misclassified)\n",
    "print(classification_report(Y_test, y_pred))"
   ]
  },
  {
   "cell_type": "code",
   "execution_count": 32,
   "id": "AO1D4rrFQDnb",
   "metadata": {
    "colab": {
     "base_uri": "https://localhost:8080/"
    },
    "executionInfo": {
     "elapsed": 53,
     "status": "ok",
     "timestamp": 1668215937207,
     "user": {
      "displayName": "Nolapat Pipitvitayakul",
      "userId": "16329361076236577044"
     },
     "user_tz": 360
    },
    "id": "AO1D4rrFQDnb",
    "outputId": "8d44d146-fa0c-42e7-9d43-82ae5dcfa357"
   },
   "outputs": [
    {
     "name": "stdout",
     "output_type": "stream",
     "text": [
      "Confusion Matrix: \n",
      "[[ 0  0  0  1  1  0  0  0  0  0  0  0  0  0  0]\n",
      " [ 0  0  0  0  6  0  0  0  0  0  0  0  0  0  0]\n",
      " [ 0  0  0  0  3  0  0  0  0  0  0  0  0  0  0]\n",
      " [ 0  0  0  0  6  0  0  0  0  0  0  0  0  0  0]\n",
      " [ 0  0  0  0 11  0  0  0  0  0  0  0  0  1  0]\n",
      " [ 0  0  0  0  1  0  0  0  0  0  0  0  0  0  0]\n",
      " [ 0  0  0  0  1  0  0  0  0  0  0  0  0  0  0]\n",
      " [ 0  0  0  0  5  0  0  0  0  0  0  0  0  0  1]\n",
      " [ 0  0  0  0  2  0  0  1  0  0  0  0  0  0  0]\n",
      " [ 0  0  0  0  3  0  0  0  0  0  0  0  0  0  0]\n",
      " [ 0  0  0  0  4  0  0  0  0  0  0  0  0  0  0]\n",
      " [ 0  0  0  0  2  0  0  0  0  0  0  0  0  0  0]\n",
      " [ 0  0  0  0  1  0  0  0  0  1  0  0  0  0  0]\n",
      " [ 0  0  0  0  2  0  0  0  0  0  0  0  0  0  0]\n",
      " [ 0  0  0  0  0  0  0  0  0  0  0  0  0  1  0]]\n",
      "Accuracy:  0.2037037037037037\n",
      "f1 Score:  0.024444444444444442\n",
      "Precision:  0.015277777777777777\n"
     ]
    },
    {
     "name": "stderr",
     "output_type": "stream",
     "text": [
      "C:\\Users\\hjk0811\\anaconda3\\envs\\gpu\\lib\\site-packages\\sklearn\\metrics\\_classification.py:1327: UndefinedMetricWarning: Precision is ill-defined and being set to 0.0 in labels with no predicted samples. Use `zero_division` parameter to control this behavior.\n",
      "  _warn_prf(average, modifier, msg_start, len(result))\n"
     ]
    }
   ],
   "source": [
    "pipe = make_pipeline(StandardScaler(), SVC(kernel='poly'))\n",
    "pipe.fit(X_train, Y_train)  # apply scaling on training data\n",
    "\n",
    "\n",
    "pipe.score(X_test, Y_test)  # apply scaling on testing data, without leaking training data.\n",
    "y_pred = pipe.predict(X_test)\n",
    "cm=confusion_matrix(Y_test, y_pred)\n",
    "print(\"Confusion Matrix: \")\n",
    "print(cm)\n",
    "print(\"Accuracy: \",metrics.accuracy_score(Y_test,y_pred))\n",
    "print(\"f1 Score: \",f1_score(Y_test, y_pred, average='macro'))\n",
    "print(\"Precision: \",precision_score(Y_test, y_pred, average='macro'))"
   ]
  },
  {
   "cell_type": "code",
   "execution_count": 33,
   "id": "bkQGLZarQpSJ",
   "metadata": {
    "colab": {
     "base_uri": "https://localhost:8080/"
    },
    "executionInfo": {
     "elapsed": 40,
     "status": "ok",
     "timestamp": 1668215937209,
     "user": {
      "displayName": "Nolapat Pipitvitayakul",
      "userId": "16329361076236577044"
     },
     "user_tz": 360
    },
    "id": "bkQGLZarQpSJ",
    "outputId": "97aad99b-f7c5-4efd-a301-98500679fa78"
   },
   "outputs": [
    {
     "name": "stdout",
     "output_type": "stream",
     "text": [
      "Confusion Matrix: \n",
      "[[0 0 0 0 1 0 0 1 0 0 0 0 0 0 0]\n",
      " [0 1 0 0 1 0 0 3 0 0 0 0 0 1 0]\n",
      " [0 0 0 1 1 0 1 0 0 0 0 0 0 0 0]\n",
      " [0 1 0 1 0 0 0 3 0 0 0 0 0 1 0]\n",
      " [0 1 0 1 3 0 0 4 0 0 0 0 0 3 0]\n",
      " [0 0 0 0 0 0 0 1 0 0 0 0 0 0 0]\n",
      " [0 0 0 0 0 0 0 0 0 0 0 0 0 1 0]\n",
      " [0 0 0 0 2 0 0 4 0 0 0 0 0 0 0]\n",
      " [0 0 0 0 1 0 0 1 0 0 0 0 0 1 0]\n",
      " [0 0 0 0 1 0 0 1 0 0 0 0 0 1 0]\n",
      " [0 1 0 1 0 0 0 1 0 0 0 0 0 1 0]\n",
      " [0 0 0 0 0 0 0 0 0 0 0 0 0 2 0]\n",
      " [0 0 0 1 0 0 0 0 0 0 0 0 0 1 0]\n",
      " [0 0 0 0 0 0 0 0 0 0 0 0 0 2 0]\n",
      " [0 0 0 0 0 0 0 0 0 0 0 0 0 1 0]]\n",
      "Accuracy:  0.2037037037037037\n",
      "f1 Score:  0.0806559714795009\n",
      "Precision:  0.07292397660818713\n"
     ]
    },
    {
     "name": "stderr",
     "output_type": "stream",
     "text": [
      "C:\\Users\\hjk0811\\anaconda3\\envs\\gpu\\lib\\site-packages\\sklearn\\metrics\\_classification.py:1327: UndefinedMetricWarning: Precision is ill-defined and being set to 0.0 in labels with no predicted samples. Use `zero_division` parameter to control this behavior.\n",
      "  _warn_prf(average, modifier, msg_start, len(result))\n"
     ]
    }
   ],
   "source": [
    "pipe = make_pipeline(StandardScaler(), SVC(kernel='rbf'))\n",
    "pipe.fit(X_train, Y_train)  # apply scaling on training data\n",
    "\n",
    "\n",
    "pipe.score(X_test, Y_test)  # apply scaling on testing data, without leaking training data.\n",
    "y_pred = pipe.predict(X_test)\n",
    "cm=confusion_matrix(Y_test, y_pred)\n",
    "print(\"Confusion Matrix: \")\n",
    "print(cm)\n",
    "print(\"Accuracy: \",metrics.accuracy_score(Y_test,y_pred))\n",
    "print(\"f1 Score: \",f1_score(Y_test, y_pred, average='macro'))\n",
    "print(\"Precision: \",precision_score(Y_test, y_pred, average='macro'))"
   ]
  },
  {
   "cell_type": "code",
   "execution_count": 34,
   "id": "GpkHbhWBUpgp",
   "metadata": {
    "colab": {
     "base_uri": "https://localhost:8080/"
    },
    "executionInfo": {
     "elapsed": 33,
     "status": "ok",
     "timestamp": 1668215937210,
     "user": {
      "displayName": "Nolapat Pipitvitayakul",
      "userId": "16329361076236577044"
     },
     "user_tz": 360
    },
    "id": "GpkHbhWBUpgp",
    "outputId": "148f99df-d2ee-40d2-8b73-c4331303ab27"
   },
   "outputs": [
    {
     "name": "stdout",
     "output_type": "stream",
     "text": [
      "Confusion Matrix: \n",
      "[[1 0 0 0 0 0 0 1 0 0 0 0 0 0 0]\n",
      " [0 2 0 2 0 0 1 1 0 0 0 0 0 0 0]\n",
      " [0 0 0 2 0 0 1 0 0 0 0 0 0 0 0]\n",
      " [0 1 1 2 0 0 1 0 0 0 1 0 0 0 0]\n",
      " [1 0 0 2 0 0 5 0 0 0 1 0 0 3 0]\n",
      " [0 0 0 0 0 0 0 0 0 0 0 0 0 1 0]\n",
      " [0 0 0 1 0 0 0 0 0 0 0 0 0 0 0]\n",
      " [1 0 0 1 0 0 2 1 0 0 0 0 1 0 0]\n",
      " [0 0 0 2 0 0 0 0 0 1 0 0 0 0 0]\n",
      " [0 0 0 3 0 0 0 0 0 0 0 0 0 0 0]\n",
      " [0 0 0 4 0 0 0 0 0 0 0 0 0 0 0]\n",
      " [0 0 0 0 0 0 0 0 0 0 0 0 0 2 0]\n",
      " [0 0 0 1 0 0 0 0 0 0 0 0 0 1 0]\n",
      " [0 0 0 1 0 0 0 0 0 1 0 0 0 0 0]\n",
      " [0 0 0 0 0 0 0 0 0 0 0 0 0 1 0]]\n",
      "Accuracy:  0.1111111111111111\n",
      "f1 Score:  0.08098765432098766\n",
      "Precision:  0.09523809523809525\n"
     ]
    },
    {
     "name": "stderr",
     "output_type": "stream",
     "text": [
      "C:\\Users\\hjk0811\\anaconda3\\envs\\gpu\\lib\\site-packages\\sklearn\\metrics\\_classification.py:1327: UndefinedMetricWarning: Precision is ill-defined and being set to 0.0 in labels with no predicted samples. Use `zero_division` parameter to control this behavior.\n",
      "  _warn_prf(average, modifier, msg_start, len(result))\n"
     ]
    }
   ],
   "source": [
    "from sklearn.tree import DecisionTreeClassifier\n",
    "clf = DecisionTreeClassifier(criterion='gini',max_depth=6,ccp_alpha=0.0)\n",
    "clf.fit(X_train,Y_train)\n",
    "y_pred = clf.predict(X_test)\n",
    "cm=confusion_matrix(Y_test, y_pred)\n",
    "print(\"Confusion Matrix: \")\n",
    "print(cm)\n",
    "print(\"Accuracy: \",metrics.accuracy_score(Y_test,y_pred))\n",
    "print(\"f1 Score: \",f1_score(Y_test, y_pred, average='macro'))\n",
    "print(\"Precision: \",precision_score(Y_test, y_pred, average='macro'))"
   ]
  },
  {
   "cell_type": "code",
   "execution_count": 35,
   "id": "fFb8HodNRn07",
   "metadata": {
    "executionInfo": {
     "elapsed": 28,
     "status": "ok",
     "timestamp": 1668215937212,
     "user": {
      "displayName": "Nolapat Pipitvitayakul",
      "userId": "16329361076236577044"
     },
     "user_tz": 360
    },
    "id": "fFb8HodNRn07"
   },
   "outputs": [],
   "source": [
    "from sklearn.svm import SVR\n",
    "from sklearn.model_selection import GridSearchCV\n",
    "from sklearn.metrics import make_scorer\n",
    "from sklearn.metrics import mean_squared_error\n",
    "from sklearn.metrics import r2_score"
   ]
  },
  {
   "cell_type": "code",
   "execution_count": 36,
   "id": "-SkbTwjtR9gv",
   "metadata": {
    "colab": {
     "base_uri": "https://localhost:8080/"
    },
    "executionInfo": {
     "elapsed": 1901,
     "status": "ok",
     "timestamp": 1668215939086,
     "user": {
      "displayName": "Nolapat Pipitvitayakul",
      "userId": "16329361076236577044"
     },
     "user_tz": 360
    },
    "id": "-SkbTwjtR9gv",
    "outputId": "a8ab99fa-ce02-41aa-d6c3-8f697837aa92"
   },
   "outputs": [],
   "source": [
    "# regr = make_pipeline(StandardScaler(), SVR(kernel='linear',C=1.0, epsilon=0.2))\n",
    "# regr.fit(X_train, Y_train)\n",
    "# y_pred = regr.predict(X_test)\n",
    "# print(\"prediction: \",y_pred)\n",
    "# scorer = make_scorer(mean_squared_error, greater_is_better=False)\n",
    "# param = {'C' : [1,5,10],'gamma' : ('auto','scale')}\n",
    "# search = GridSearchCV(SVR(kernel='linear', epsilon=0.2),\n",
    "#                       param_grid=param, cv=3, scoring=scorer, n_jobs = -1, verbose = 2)\n",
    "\n",
    "# search.fit(x, y)\n",
    "\n",
    "# regr = Pipeline([\n",
    "#     (\"scaler\", StandardScaler()),\n",
    "#     (\"kern_svc\", search.best_estimator_)\n",
    "# ])\n",
    "# regr.fit(X_train, Y_train)\n",
    "# y_pred = regr.predict(X_test)\n",
    "# print(\"prediction: \",y_pred)\n",
    "# print(\"mean squared error:\",mean_squared_error(Y_test,y_pred))\n",
    "# print(\"R-2:\",r2_score(Y_test, y_pred))"
   ]
  },
  {
   "cell_type": "code",
   "execution_count": 37,
   "id": "-H4Z4-KhF5xF",
   "metadata": {
    "colab": {
     "base_uri": "https://localhost:8080/"
    },
    "executionInfo": {
     "elapsed": 11,
     "status": "ok",
     "timestamp": 1668215939088,
     "user": {
      "displayName": "Nolapat Pipitvitayakul",
      "userId": "16329361076236577044"
     },
     "user_tz": 360
    },
    "id": "-H4Z4-KhF5xF",
    "outputId": "a0dbb0c9-c397-4133-b822-d75fedb98d46"
   },
   "outputs": [
    {
     "data": {
      "text/plain": [
       "array([ 2,  4,  4, 13,  4, 14,  4,  3,  7,  7, 10,  4, 14,  8,  4,  4,  4,\n",
       "        4,  4,  2,  4, 14,  4,  4,  4,  1,  7,  4,  7, 14, 11,  4,  7,  7,\n",
       "       14,  7, 14,  4,  4, 14,  4, 10, 14,  1,  2,  7, 11,  4,  7,  8,  4,\n",
       "        8,  7,  1])"
      ]
     },
     "execution_count": 37,
     "metadata": {},
     "output_type": "execute_result"
    }
   ],
   "source": [
    "from joblib import Parallel, delayed\n",
    "import joblib\n",
    "\n",
    "# Save the model as a pickle in a file\n",
    "joblib.dump(clf, 'filename.pkl')\n",
    "  \n",
    "# Load the model from the file\n",
    "clf_from_joblib = joblib.load('filename.pkl')\n",
    "  \n",
    "# Use the loaded model to make predictions\n",
    "clf_from_joblib.predict(X_test)"
   ]
  },
  {
   "cell_type": "code",
   "execution_count": 38,
   "id": "5d1dec96",
   "metadata": {
    "colab": {
     "base_uri": "https://localhost:8080/",
     "height": 297
    },
    "executionInfo": {
     "elapsed": 439,
     "status": "ok",
     "timestamp": 1668215939521,
     "user": {
      "displayName": "Nolapat Pipitvitayakul",
      "userId": "16329361076236577044"
     },
     "user_tz": 360
    },
    "id": "5d1dec96",
    "outputId": "ff71d0f4-ba04-41ce-9151-e1cbe6165518"
   },
   "outputs": [
    {
     "data": {
      "image/png": "[encoded data removed]",
      "text/plain": [
       "<Figure size 640x480 with 1 Axes>"
      ]
     },
     "metadata": {},
     "output_type": "display_data"
    }
   ],
   "source": [
    "importances = clf.feature_importances_\n",
    "sorted_indices = np.argsort(importances)[::-1]\n",
    "plt.title('Feature Importance')\n",
    "plt.bar(range(X_train.shape[1]), importances[sorted_indices], align='center')\n",
    "plt.xticks(range(X_train.shape[1]), df2.columns[sorted_indices], rotation=90)\n",
    "plt.tight_layout()\n",
    "plt.show()"
   ]
  },
  {
   "cell_type": "code",
   "execution_count": 39,
   "id": "cS7E8yE885To",
   "metadata": {
    "colab": {
     "base_uri": "https://localhost:8080/"
    },
    "executionInfo": {
     "elapsed": 17,
     "status": "ok",
     "timestamp": 1668215939523,
     "user": {
      "displayName": "Nolapat Pipitvitayakul",
      "userId": "16329361076236577044"
     },
     "user_tz": 360
    },
    "id": "cS7E8yE885To",
    "outputId": "d5a61626-d37d-48bb-be05-bda7ef67330d"
   },
   "outputs": [
    {
     "data": {
      "text/plain": [
       "Index(['40', '7', '46', '34', '10', '84', '112', '54', '108', '58'], dtype='object')"
      ]
     },
     "execution_count": 39,
     "metadata": {},
     "output_type": "execute_result"
    }
   ],
   "source": [
    "df2.columns[sorted_indices][0:10]"
   ]
  },
  {
   "cell_type": "code",
   "execution_count": 40,
   "id": "d2f826e3",
   "metadata": {},
   "outputs": [
    {
     "data": {
      "text/plain": [
       "array([0.15590083, 0.14299378, 0.10324036, 0.08761843, 0.08375412,\n",
       "       0.08103561, 0.07890961, 0.07026731, 0.051971  , 0.03766141])"
      ]
     },
     "execution_count": 40,
     "metadata": {},
     "output_type": "execute_result"
    }
   ],
   "source": [
    "importances[sorted_indices][0:10]"
   ]
  },
  {
   "cell_type": "code",
   "execution_count": 41,
   "id": "866170ad",
   "metadata": {
    "executionInfo": {
     "elapsed": 11,
     "status": "ok",
     "timestamp": 1668215939524,
     "user": {
      "displayName": "Nolapat Pipitvitayakul",
      "userId": "16329361076236577044"
     },
     "user_tz": 360
    },
    "id": "866170ad"
   },
   "outputs": [],
   "source": [
    "import seaborn as sns\n",
    "\n",
    "# sns.set(style=\"ticks\", color_codes=True)\n",
    "# g = sns.pairplot(df2)\n",
    "\n",
    "\n",
    "import matplotlib.pyplot as plt\n",
    "# plt.show()"
   ]
  },
  {
   "cell_type": "code",
   "execution_count": 42,
   "id": "uM0EYtRe8L4B",
   "metadata": {
    "colab": {
     "base_uri": "https://localhost:8080/",
     "height": 704
    },
    "executionInfo": {
     "elapsed": 1843,
     "status": "ok",
     "timestamp": 1668215941358,
     "user": {
      "displayName": "Nolapat Pipitvitayakul",
      "userId": "16329361076236577044"
     },
     "user_tz": 360
    },
    "id": "uM0EYtRe8L4B",
    "outputId": "709a0695-0179-4849-b89d-4943c59d707d"
   },
   "outputs": [
    {
     "data": {
      "image/png": "[encoded data removed]",
      "text/plain": [
       "<Figure size 1200x1200 with 2 Axes>"
      ]
     },
     "metadata": {},
     "output_type": "display_data"
    }
   ],
   "source": [
    "fig, ax = plt.subplots(figsize=(12,12))\n",
    "dataplot = sns.heatmap(df2.corr(), cmap=\"YlGnBu\", annot=True,linewidths=.8, ax=ax)\n",
    "plt.show()"
   ]
  },
  {
   "cell_type": "code",
   "execution_count": 45,
   "id": "b_ysenTP8fpO",
   "metadata": {
    "colab": {
     "base_uri": "https://localhost:8080/",
     "height": 312
    },
    "executionInfo": {
     "elapsed": 260,
     "status": "error",
     "timestamp": 1668215941604,
     "user": {
      "displayName": "Nolapat Pipitvitayakul",
      "userId": "16329361076236577044"
     },
     "user_tz": 360
    },
    "id": "b_ysenTP8fpO",
    "outputId": "c1c2f265-fd42-4fc3-93f1-ad3d2d7496e4"
   },
   "outputs": [],
   "source": [
    "df3 = df2[['127','112','34','106','58','label']]"
   ]
  },
  {
   "cell_type": "code",
   "execution_count": 46,
   "id": "LYxoVqnG9VLv",
   "metadata": {
    "executionInfo": {
     "elapsed": 21,
     "status": "aborted",
     "timestamp": 1668215941608,
     "user": {
      "displayName": "Nolapat Pipitvitayakul",
      "userId": "16329361076236577044"
     },
     "user_tz": 360
    },
    "id": "LYxoVqnG9VLv"
   },
   "outputs": [],
   "source": [
    "x = df3.drop(\"label\", axis=1)\n",
    "y = df3['label'].astype(int).values"
   ]
  },
  {
   "cell_type": "code",
   "execution_count": 53,
   "id": "ulTM0_Wi9aso",
   "metadata": {
    "executionInfo": {
     "elapsed": 22,
     "status": "aborted",
     "timestamp": 1668215941610,
     "user": {
      "displayName": "Nolapat Pipitvitayakul",
      "userId": "16329361076236577044"
     },
     "user_tz": 360
    },
    "id": "ulTM0_Wi9aso"
   },
   "outputs": [],
   "source": [
    "X_train, X_test, Y_train, Y_test = train_test_split(x, y, test_size=0.3, shuffle=True)"
   ]
  },
  {
   "cell_type": "code",
   "execution_count": 54,
   "id": "83d6c8d0",
   "metadata": {
    "executionInfo": {
     "elapsed": 25,
     "status": "aborted",
     "timestamp": 1668215941614,
     "user": {
      "displayName": "Nolapat Pipitvitayakul",
      "userId": "16329361076236577044"
     },
     "user_tz": 360
    },
    "id": "83d6c8d0"
   },
   "outputs": [
    {
     "name": "stdout",
     "output_type": "stream",
     "text": [
      "Accuracy on training set is : 0.42063492063492064\n",
      "Accuracy on test set is : 0.14814814814814814\n",
      "              precision    recall  f1-score   support\n",
      "\n",
      "           1       0.00      0.00      0.00         2\n",
      "           2       0.00      0.00      0.00         4\n",
      "           3       0.00      0.00      0.00         2\n",
      "           4       0.18      0.60      0.27         5\n",
      "           5       0.19      0.56      0.28         9\n",
      "           7       0.00      0.00      0.00         5\n",
      "           8       0.00      0.00      0.00         9\n",
      "           9       0.00      0.00      0.00         2\n",
      "          10       0.00      0.00      0.00         4\n",
      "          12       0.00      0.00      0.00         1\n",
      "          13       0.00      0.00      0.00         2\n",
      "          14       0.00      0.00      0.00         5\n",
      "          15       0.00      0.00      0.00         4\n",
      "\n",
      "    accuracy                           0.15        54\n",
      "   macro avg       0.03      0.09      0.04        54\n",
      "weighted avg       0.05      0.15      0.07        54\n",
      "\n",
      "[4 5 5 5 5 5 2 5 4 5 5 7 4 4 5 4 5 4 4 5 5 5 5 2 5 5 7 4 4 5 2 4 5 7 5 5 5\n",
      " 4 5 2 4 5 4 4 5 5 5 4 5 2 4 2 7 4]\n",
      "[ 8  1 15 10  7 10  5  9  7  8  4  5  4  8 15 15  2 13  5  5  1 14  5  7\n",
      " 15  3  9 14  4 13  8  2  7 10 14  8 12  2 10 14  8  5  4  8  5  5  3  2\n",
      "  7  5 14  8  4  8]\n"
     ]
    },
    {
     "name": "stderr",
     "output_type": "stream",
     "text": [
      "C:\\Users\\hjk0811\\anaconda3\\envs\\gpu\\lib\\site-packages\\sklearn\\metrics\\_classification.py:1327: UndefinedMetricWarning: Precision and F-score are ill-defined and being set to 0.0 in labels with no predicted samples. Use `zero_division` parameter to control this behavior.\n",
      "  _warn_prf(average, modifier, msg_start, len(result))\n",
      "C:\\Users\\hjk0811\\anaconda3\\envs\\gpu\\lib\\site-packages\\sklearn\\metrics\\_classification.py:1327: UndefinedMetricWarning: Precision and F-score are ill-defined and being set to 0.0 in labels with no predicted samples. Use `zero_division` parameter to control this behavior.\n",
      "  _warn_prf(average, modifier, msg_start, len(result))\n",
      "C:\\Users\\hjk0811\\anaconda3\\envs\\gpu\\lib\\site-packages\\sklearn\\metrics\\_classification.py:1327: UndefinedMetricWarning: Precision and F-score are ill-defined and being set to 0.0 in labels with no predicted samples. Use `zero_division` parameter to control this behavior.\n",
      "  _warn_prf(average, modifier, msg_start, len(result))\n"
     ]
    }
   ],
   "source": [
    "from sklearn.ensemble import RandomForestClassifier\n",
    "from sklearn.metrics import classification_report\n",
    "#from sklearn.linear_model import LogisticRegression\n",
    "clf = RandomForestClassifier(n_estimators=1000, max_depth=3)\n",
    "#clf = LogisticRegression(random_state=0).fit(X_train, Y_train.ravel())\n",
    "clf.fit(X_train, Y_train.ravel())\n",
    "print(\"Accuracy on training set is : {}\".format(clf.score(X_train, Y_train)))\n",
    "print(\"Accuracy on test set is : {}\".format(clf.score(X_test, Y_test)))\n",
    "Y_test_pred = clf.predict(X_test)\n",
    "print(classification_report(Y_test, Y_test_pred))\n",
    "\n",
    "print(Y_test_pred)\n",
    "print(Y_test)"
   ]
  },
  {
   "cell_type": "code",
   "execution_count": 55,
   "id": "362158c0",
   "metadata": {},
   "outputs": [
    {
     "name": "stdout",
     "output_type": "stream",
     "text": [
      "[[0 0 0 0 1 0 0 0 0 1 0 0 0 0]\n",
      " [0 0 0 1 1 0 0 0 0 2 0 0 0 0]\n",
      " [0 0 0 0 2 0 0 0 0 0 0 0 0 0]\n",
      " [0 1 0 1 3 0 0 0 0 0 0 0 0 0]\n",
      " [0 3 1 1 2 0 0 0 0 2 0 0 0 0]\n",
      " [0 2 0 0 2 0 1 0 0 0 0 0 0 0]\n",
      " [1 2 2 1 1 2 0 0 0 0 0 0 0 0]\n",
      " [0 0 0 0 0 0 1 0 0 1 0 0 0 0]\n",
      " [0 0 0 0 4 0 0 0 0 0 0 0 0 0]\n",
      " [0 0 0 0 0 0 0 0 0 0 0 0 0 0]\n",
      " [0 0 0 0 1 0 0 0 0 0 0 0 0 0]\n",
      " [0 1 0 0 1 0 0 0 0 0 0 0 0 0]\n",
      " [0 0 1 0 2 1 0 0 0 1 0 0 0 0]\n",
      " [0 2 1 1 0 0 0 0 0 0 0 0 0 0]]\n",
      "51\n",
      "              precision    recall  f1-score   support\n",
      "\n",
      "           1       0.00      0.00      0.00         2\n",
      "           2       0.00      0.00      0.00         4\n",
      "           3       0.00      0.00      0.00         2\n",
      "           4       0.20      0.20      0.20         5\n",
      "           5       0.10      0.22      0.14         9\n",
      "           7       0.00      0.00      0.00         5\n",
      "           8       0.00      0.00      0.00         9\n",
      "           9       0.00      0.00      0.00         2\n",
      "          10       0.00      0.00      0.00         4\n",
      "          11       0.00      0.00      0.00         0\n",
      "          12       0.00      0.00      0.00         1\n",
      "          13       0.00      0.00      0.00         2\n",
      "          14       0.00      0.00      0.00         5\n",
      "          15       0.00      0.00      0.00         4\n",
      "\n",
      "    accuracy                           0.06        54\n",
      "   macro avg       0.02      0.03      0.02        54\n",
      "weighted avg       0.04      0.06      0.04        54\n",
      "\n"
     ]
    },
    {
     "name": "stderr",
     "output_type": "stream",
     "text": [
      "C:\\Users\\hjk0811\\anaconda3\\envs\\gpu\\lib\\site-packages\\sklearn\\metrics\\_classification.py:1327: UndefinedMetricWarning: Precision and F-score are ill-defined and being set to 0.0 in labels with no predicted samples. Use `zero_division` parameter to control this behavior.\n",
      "  _warn_prf(average, modifier, msg_start, len(result))\n",
      "C:\\Users\\hjk0811\\anaconda3\\envs\\gpu\\lib\\site-packages\\sklearn\\metrics\\_classification.py:1327: UndefinedMetricWarning: Recall and F-score are ill-defined and being set to 0.0 in labels with no true samples. Use `zero_division` parameter to control this behavior.\n",
      "  _warn_prf(average, modifier, msg_start, len(result))\n",
      "C:\\Users\\hjk0811\\anaconda3\\envs\\gpu\\lib\\site-packages\\sklearn\\metrics\\_classification.py:1327: UndefinedMetricWarning: Precision and F-score are ill-defined and being set to 0.0 in labels with no predicted samples. Use `zero_division` parameter to control this behavior.\n",
      "  _warn_prf(average, modifier, msg_start, len(result))\n",
      "C:\\Users\\hjk0811\\anaconda3\\envs\\gpu\\lib\\site-packages\\sklearn\\metrics\\_classification.py:1327: UndefinedMetricWarning: Recall and F-score are ill-defined and being set to 0.0 in labels with no true samples. Use `zero_division` parameter to control this behavior.\n",
      "  _warn_prf(average, modifier, msg_start, len(result))\n",
      "C:\\Users\\hjk0811\\anaconda3\\envs\\gpu\\lib\\site-packages\\sklearn\\metrics\\_classification.py:1327: UndefinedMetricWarning: Precision and F-score are ill-defined and being set to 0.0 in labels with no predicted samples. Use `zero_division` parameter to control this behavior.\n",
      "  _warn_prf(average, modifier, msg_start, len(result))\n",
      "C:\\Users\\hjk0811\\anaconda3\\envs\\gpu\\lib\\site-packages\\sklearn\\metrics\\_classification.py:1327: UndefinedMetricWarning: Recall and F-score are ill-defined and being set to 0.0 in labels with no true samples. Use `zero_division` parameter to control this behavior.\n",
      "  _warn_prf(average, modifier, msg_start, len(result))\n"
     ]
    }
   ],
   "source": [
    "clf = neighbors.KNeighborsClassifier(n_neighbors=5)\n",
    "clf.fit(X_train, Y_train)\n",
    "y_pred = clf.predict(X_test)\n",
    "cm = confusion_matrix(Y_test, y_pred)\n",
    "misclassified = np.sum(cm) - np.sum(np.diag(cm))\n",
    "print(cm)\n",
    "print(misclassified)\n",
    "print(classification_report(Y_test, y_pred))"
   ]
  },
  {
   "cell_type": "code",
   "execution_count": null,
   "id": "1a4595a6",
   "metadata": {},
   "outputs": [],
   "source": []
  }
 ],
 "metadata": {
  "colab": {
   "collapsed_sections": [],
   "provenance": []
  },
  "kernelspec": {
   "display_name": "Python 3 (ipykernel)",
   "language": "python",
   "name": "python3"
  },
  "language_info": {
   "codemirror_mode": {
    "name": "ipython",
    "version": 3
   },
   "file_extension": ".py",
   "mimetype": "text/x-python",
   "name": "python",
   "nbconvert_exporter": "python",
   "pygments_lexer": "ipython3",
   "version": "3.9.15"
  }
 },
 "nbformat": 4,
 "nbformat_minor": 5
}
